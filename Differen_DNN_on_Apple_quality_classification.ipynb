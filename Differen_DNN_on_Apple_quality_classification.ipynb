{
  "nbformat": 4,
  "nbformat_minor": 0,
  "metadata": {
    "colab": {
      "provenance": [],
      "authorship_tag": "ABX9TyMcalLgs/flRnWMY9bLm3QM",
      "include_colab_link": true
    },
    "kernelspec": {
      "name": "python3",
      "display_name": "Python 3"
    },
    "language_info": {
      "name": "python"
    }
  },
  "cells": [
    {
      "cell_type": "markdown",
      "metadata": {
        "id": "view-in-github",
        "colab_type": "text"
      },
      "source": [
        "<a href=\"https://colab.research.google.com/github/Cralsic123/Differen-DNN-on-Apple-quality-classification/blob/main/Differen_DNN_on_Apple_quality_classification.ipynb\" target=\"_parent\"><img src=\"https://colab.research.google.com/assets/colab-badge.svg\" alt=\"Open In Colab\"/></a>"
      ]
    },
    {
      "cell_type": "code",
      "execution_count": 53,
      "metadata": {
        "id": "v-r0yvCj2RMq"
      },
      "outputs": [],
      "source": [
        "import numpy as np\n",
        "import pandas as pd\n",
        "import matplotlib.pyplot as plt\n",
        "from sklearn.model_selection import train_test_split"
      ]
    },
    {
      "cell_type": "code",
      "source": [
        "df = pd.read_csv(\"/content/apple_quality.csv\")"
      ],
      "metadata": {
        "id": "JE1QVxtv2kEr"
      },
      "execution_count": 54,
      "outputs": []
    },
    {
      "cell_type": "code",
      "source": [
        "df = df.iloc[:-1]"
      ],
      "metadata": {
        "id": "Ko6OhJcZd75E"
      },
      "execution_count": 55,
      "outputs": []
    },
    {
      "cell_type": "code",
      "source": [
        "df.head(10)"
      ],
      "metadata": {
        "colab": {
          "base_uri": "https://localhost:8080/",
          "height": 383
        },
        "id": "FKh8o2JX2qcR",
        "outputId": "a1b389ea-8e7f-4c38-df67-9f474d7ed636"
      },
      "execution_count": 56,
      "outputs": [
        {
          "output_type": "execute_result",
          "data": {
            "text/plain": [
              "   A_id      Size    Weight  Sweetness  Crunchiness  Juiciness  Ripeness  \\\n",
              "0   0.0 -3.970049 -2.512336   5.346330    -1.012009   1.844900  0.329840   \n",
              "1   1.0 -1.195217 -2.839257   3.664059     1.588232   0.853286  0.867530   \n",
              "2   2.0 -0.292024 -1.351282  -1.738429    -0.342616   2.838636 -0.038033   \n",
              "3   3.0 -0.657196 -2.271627   1.324874    -0.097875   3.637970 -3.413761   \n",
              "4   4.0  1.364217 -1.296612  -0.384658    -0.553006   3.030874 -1.303849   \n",
              "5   5.0 -3.425400 -1.409082  -1.913511    -0.555775  -3.853071  1.914616   \n",
              "6   6.0  1.331606  1.635956   0.875974    -1.677798   3.106344 -1.847417   \n",
              "7   7.0 -1.995462 -0.428958   1.530644    -0.742972   0.158834  0.974438   \n",
              "8   8.0 -3.867632 -3.734514   0.986429    -1.207655   2.292873  4.080921   \n",
              "9   9.0 -0.727983 -0.442820  -4.092223     0.597513   0.393714  1.620857   \n",
              "\n",
              "        Acidity Quality  \n",
              "0  -0.491590483    good  \n",
              "1  -0.722809367    good  \n",
              "2   2.621636473     bad  \n",
              "3   0.790723217    good  \n",
              "4   0.501984036    good  \n",
              "5  -2.981523169     bad  \n",
              "6   2.414170509    good  \n",
              "7  -1.470125066    good  \n",
              "8  -4.871904758     bad  \n",
              "9   2.185607723     bad  "
            ],
            "text/html": [
              "\n",
              "  <div id=\"df-965aa39b-014a-431a-ae08-73f641f54fa0\" class=\"colab-df-container\">\n",
              "    <div>\n",
              "<style scoped>\n",
              "    .dataframe tbody tr th:only-of-type {\n",
              "        vertical-align: middle;\n",
              "    }\n",
              "\n",
              "    .dataframe tbody tr th {\n",
              "        vertical-align: top;\n",
              "    }\n",
              "\n",
              "    .dataframe thead th {\n",
              "        text-align: right;\n",
              "    }\n",
              "</style>\n",
              "<table border=\"1\" class=\"dataframe\">\n",
              "  <thead>\n",
              "    <tr style=\"text-align: right;\">\n",
              "      <th></th>\n",
              "      <th>A_id</th>\n",
              "      <th>Size</th>\n",
              "      <th>Weight</th>\n",
              "      <th>Sweetness</th>\n",
              "      <th>Crunchiness</th>\n",
              "      <th>Juiciness</th>\n",
              "      <th>Ripeness</th>\n",
              "      <th>Acidity</th>\n",
              "      <th>Quality</th>\n",
              "    </tr>\n",
              "  </thead>\n",
              "  <tbody>\n",
              "    <tr>\n",
              "      <th>0</th>\n",
              "      <td>0.0</td>\n",
              "      <td>-3.970049</td>\n",
              "      <td>-2.512336</td>\n",
              "      <td>5.346330</td>\n",
              "      <td>-1.012009</td>\n",
              "      <td>1.844900</td>\n",
              "      <td>0.329840</td>\n",
              "      <td>-0.491590483</td>\n",
              "      <td>good</td>\n",
              "    </tr>\n",
              "    <tr>\n",
              "      <th>1</th>\n",
              "      <td>1.0</td>\n",
              "      <td>-1.195217</td>\n",
              "      <td>-2.839257</td>\n",
              "      <td>3.664059</td>\n",
              "      <td>1.588232</td>\n",
              "      <td>0.853286</td>\n",
              "      <td>0.867530</td>\n",
              "      <td>-0.722809367</td>\n",
              "      <td>good</td>\n",
              "    </tr>\n",
              "    <tr>\n",
              "      <th>2</th>\n",
              "      <td>2.0</td>\n",
              "      <td>-0.292024</td>\n",
              "      <td>-1.351282</td>\n",
              "      <td>-1.738429</td>\n",
              "      <td>-0.342616</td>\n",
              "      <td>2.838636</td>\n",
              "      <td>-0.038033</td>\n",
              "      <td>2.621636473</td>\n",
              "      <td>bad</td>\n",
              "    </tr>\n",
              "    <tr>\n",
              "      <th>3</th>\n",
              "      <td>3.0</td>\n",
              "      <td>-0.657196</td>\n",
              "      <td>-2.271627</td>\n",
              "      <td>1.324874</td>\n",
              "      <td>-0.097875</td>\n",
              "      <td>3.637970</td>\n",
              "      <td>-3.413761</td>\n",
              "      <td>0.790723217</td>\n",
              "      <td>good</td>\n",
              "    </tr>\n",
              "    <tr>\n",
              "      <th>4</th>\n",
              "      <td>4.0</td>\n",
              "      <td>1.364217</td>\n",
              "      <td>-1.296612</td>\n",
              "      <td>-0.384658</td>\n",
              "      <td>-0.553006</td>\n",
              "      <td>3.030874</td>\n",
              "      <td>-1.303849</td>\n",
              "      <td>0.501984036</td>\n",
              "      <td>good</td>\n",
              "    </tr>\n",
              "    <tr>\n",
              "      <th>5</th>\n",
              "      <td>5.0</td>\n",
              "      <td>-3.425400</td>\n",
              "      <td>-1.409082</td>\n",
              "      <td>-1.913511</td>\n",
              "      <td>-0.555775</td>\n",
              "      <td>-3.853071</td>\n",
              "      <td>1.914616</td>\n",
              "      <td>-2.981523169</td>\n",
              "      <td>bad</td>\n",
              "    </tr>\n",
              "    <tr>\n",
              "      <th>6</th>\n",
              "      <td>6.0</td>\n",
              "      <td>1.331606</td>\n",
              "      <td>1.635956</td>\n",
              "      <td>0.875974</td>\n",
              "      <td>-1.677798</td>\n",
              "      <td>3.106344</td>\n",
              "      <td>-1.847417</td>\n",
              "      <td>2.414170509</td>\n",
              "      <td>good</td>\n",
              "    </tr>\n",
              "    <tr>\n",
              "      <th>7</th>\n",
              "      <td>7.0</td>\n",
              "      <td>-1.995462</td>\n",
              "      <td>-0.428958</td>\n",
              "      <td>1.530644</td>\n",
              "      <td>-0.742972</td>\n",
              "      <td>0.158834</td>\n",
              "      <td>0.974438</td>\n",
              "      <td>-1.470125066</td>\n",
              "      <td>good</td>\n",
              "    </tr>\n",
              "    <tr>\n",
              "      <th>8</th>\n",
              "      <td>8.0</td>\n",
              "      <td>-3.867632</td>\n",
              "      <td>-3.734514</td>\n",
              "      <td>0.986429</td>\n",
              "      <td>-1.207655</td>\n",
              "      <td>2.292873</td>\n",
              "      <td>4.080921</td>\n",
              "      <td>-4.871904758</td>\n",
              "      <td>bad</td>\n",
              "    </tr>\n",
              "    <tr>\n",
              "      <th>9</th>\n",
              "      <td>9.0</td>\n",
              "      <td>-0.727983</td>\n",
              "      <td>-0.442820</td>\n",
              "      <td>-4.092223</td>\n",
              "      <td>0.597513</td>\n",
              "      <td>0.393714</td>\n",
              "      <td>1.620857</td>\n",
              "      <td>2.185607723</td>\n",
              "      <td>bad</td>\n",
              "    </tr>\n",
              "  </tbody>\n",
              "</table>\n",
              "</div>\n",
              "    <div class=\"colab-df-buttons\">\n",
              "\n",
              "  <div class=\"colab-df-container\">\n",
              "    <button class=\"colab-df-convert\" onclick=\"convertToInteractive('df-965aa39b-014a-431a-ae08-73f641f54fa0')\"\n",
              "            title=\"Convert this dataframe to an interactive table.\"\n",
              "            style=\"display:none;\">\n",
              "\n",
              "  <svg xmlns=\"http://www.w3.org/2000/svg\" height=\"24px\" viewBox=\"0 -960 960 960\">\n",
              "    <path d=\"M120-120v-720h720v720H120Zm60-500h600v-160H180v160Zm220 220h160v-160H400v160Zm0 220h160v-160H400v160ZM180-400h160v-160H180v160Zm440 0h160v-160H620v160ZM180-180h160v-160H180v160Zm440 0h160v-160H620v160Z\"/>\n",
              "  </svg>\n",
              "    </button>\n",
              "\n",
              "  <style>\n",
              "    .colab-df-container {\n",
              "      display:flex;\n",
              "      gap: 12px;\n",
              "    }\n",
              "\n",
              "    .colab-df-convert {\n",
              "      background-color: #E8F0FE;\n",
              "      border: none;\n",
              "      border-radius: 50%;\n",
              "      cursor: pointer;\n",
              "      display: none;\n",
              "      fill: #1967D2;\n",
              "      height: 32px;\n",
              "      padding: 0 0 0 0;\n",
              "      width: 32px;\n",
              "    }\n",
              "\n",
              "    .colab-df-convert:hover {\n",
              "      background-color: #E2EBFA;\n",
              "      box-shadow: 0px 1px 2px rgba(60, 64, 67, 0.3), 0px 1px 3px 1px rgba(60, 64, 67, 0.15);\n",
              "      fill: #174EA6;\n",
              "    }\n",
              "\n",
              "    .colab-df-buttons div {\n",
              "      margin-bottom: 4px;\n",
              "    }\n",
              "\n",
              "    [theme=dark] .colab-df-convert {\n",
              "      background-color: #3B4455;\n",
              "      fill: #D2E3FC;\n",
              "    }\n",
              "\n",
              "    [theme=dark] .colab-df-convert:hover {\n",
              "      background-color: #434B5C;\n",
              "      box-shadow: 0px 1px 3px 1px rgba(0, 0, 0, 0.15);\n",
              "      filter: drop-shadow(0px 1px 2px rgba(0, 0, 0, 0.3));\n",
              "      fill: #FFFFFF;\n",
              "    }\n",
              "  </style>\n",
              "\n",
              "    <script>\n",
              "      const buttonEl =\n",
              "        document.querySelector('#df-965aa39b-014a-431a-ae08-73f641f54fa0 button.colab-df-convert');\n",
              "      buttonEl.style.display =\n",
              "        google.colab.kernel.accessAllowed ? 'block' : 'none';\n",
              "\n",
              "      async function convertToInteractive(key) {\n",
              "        const element = document.querySelector('#df-965aa39b-014a-431a-ae08-73f641f54fa0');\n",
              "        const dataTable =\n",
              "          await google.colab.kernel.invokeFunction('convertToInteractive',\n",
              "                                                    [key], {});\n",
              "        if (!dataTable) return;\n",
              "\n",
              "        const docLinkHtml = 'Like what you see? Visit the ' +\n",
              "          '<a target=\"_blank\" href=https://colab.research.google.com/notebooks/data_table.ipynb>data table notebook</a>'\n",
              "          + ' to learn more about interactive tables.';\n",
              "        element.innerHTML = '';\n",
              "        dataTable['output_type'] = 'display_data';\n",
              "        await google.colab.output.renderOutput(dataTable, element);\n",
              "        const docLink = document.createElement('div');\n",
              "        docLink.innerHTML = docLinkHtml;\n",
              "        element.appendChild(docLink);\n",
              "      }\n",
              "    </script>\n",
              "  </div>\n",
              "\n",
              "\n",
              "<div id=\"df-d49bc5ba-81d8-405f-b31e-6b9419a925d8\">\n",
              "  <button class=\"colab-df-quickchart\" onclick=\"quickchart('df-d49bc5ba-81d8-405f-b31e-6b9419a925d8')\"\n",
              "            title=\"Suggest charts\"\n",
              "            style=\"display:none;\">\n",
              "\n",
              "<svg xmlns=\"http://www.w3.org/2000/svg\" height=\"24px\"viewBox=\"0 0 24 24\"\n",
              "     width=\"24px\">\n",
              "    <g>\n",
              "        <path d=\"M19 3H5c-1.1 0-2 .9-2 2v14c0 1.1.9 2 2 2h14c1.1 0 2-.9 2-2V5c0-1.1-.9-2-2-2zM9 17H7v-7h2v7zm4 0h-2V7h2v10zm4 0h-2v-4h2v4z\"/>\n",
              "    </g>\n",
              "</svg>\n",
              "  </button>\n",
              "\n",
              "<style>\n",
              "  .colab-df-quickchart {\n",
              "      --bg-color: #E8F0FE;\n",
              "      --fill-color: #1967D2;\n",
              "      --hover-bg-color: #E2EBFA;\n",
              "      --hover-fill-color: #174EA6;\n",
              "      --disabled-fill-color: #AAA;\n",
              "      --disabled-bg-color: #DDD;\n",
              "  }\n",
              "\n",
              "  [theme=dark] .colab-df-quickchart {\n",
              "      --bg-color: #3B4455;\n",
              "      --fill-color: #D2E3FC;\n",
              "      --hover-bg-color: #434B5C;\n",
              "      --hover-fill-color: #FFFFFF;\n",
              "      --disabled-bg-color: #3B4455;\n",
              "      --disabled-fill-color: #666;\n",
              "  }\n",
              "\n",
              "  .colab-df-quickchart {\n",
              "    background-color: var(--bg-color);\n",
              "    border: none;\n",
              "    border-radius: 50%;\n",
              "    cursor: pointer;\n",
              "    display: none;\n",
              "    fill: var(--fill-color);\n",
              "    height: 32px;\n",
              "    padding: 0;\n",
              "    width: 32px;\n",
              "  }\n",
              "\n",
              "  .colab-df-quickchart:hover {\n",
              "    background-color: var(--hover-bg-color);\n",
              "    box-shadow: 0 1px 2px rgba(60, 64, 67, 0.3), 0 1px 3px 1px rgba(60, 64, 67, 0.15);\n",
              "    fill: var(--button-hover-fill-color);\n",
              "  }\n",
              "\n",
              "  .colab-df-quickchart-complete:disabled,\n",
              "  .colab-df-quickchart-complete:disabled:hover {\n",
              "    background-color: var(--disabled-bg-color);\n",
              "    fill: var(--disabled-fill-color);\n",
              "    box-shadow: none;\n",
              "  }\n",
              "\n",
              "  .colab-df-spinner {\n",
              "    border: 2px solid var(--fill-color);\n",
              "    border-color: transparent;\n",
              "    border-bottom-color: var(--fill-color);\n",
              "    animation:\n",
              "      spin 1s steps(1) infinite;\n",
              "  }\n",
              "\n",
              "  @keyframes spin {\n",
              "    0% {\n",
              "      border-color: transparent;\n",
              "      border-bottom-color: var(--fill-color);\n",
              "      border-left-color: var(--fill-color);\n",
              "    }\n",
              "    20% {\n",
              "      border-color: transparent;\n",
              "      border-left-color: var(--fill-color);\n",
              "      border-top-color: var(--fill-color);\n",
              "    }\n",
              "    30% {\n",
              "      border-color: transparent;\n",
              "      border-left-color: var(--fill-color);\n",
              "      border-top-color: var(--fill-color);\n",
              "      border-right-color: var(--fill-color);\n",
              "    }\n",
              "    40% {\n",
              "      border-color: transparent;\n",
              "      border-right-color: var(--fill-color);\n",
              "      border-top-color: var(--fill-color);\n",
              "    }\n",
              "    60% {\n",
              "      border-color: transparent;\n",
              "      border-right-color: var(--fill-color);\n",
              "    }\n",
              "    80% {\n",
              "      border-color: transparent;\n",
              "      border-right-color: var(--fill-color);\n",
              "      border-bottom-color: var(--fill-color);\n",
              "    }\n",
              "    90% {\n",
              "      border-color: transparent;\n",
              "      border-bottom-color: var(--fill-color);\n",
              "    }\n",
              "  }\n",
              "</style>\n",
              "\n",
              "  <script>\n",
              "    async function quickchart(key) {\n",
              "      const quickchartButtonEl =\n",
              "        document.querySelector('#' + key + ' button');\n",
              "      quickchartButtonEl.disabled = true;  // To prevent multiple clicks.\n",
              "      quickchartButtonEl.classList.add('colab-df-spinner');\n",
              "      try {\n",
              "        const charts = await google.colab.kernel.invokeFunction(\n",
              "            'suggestCharts', [key], {});\n",
              "      } catch (error) {\n",
              "        console.error('Error during call to suggestCharts:', error);\n",
              "      }\n",
              "      quickchartButtonEl.classList.remove('colab-df-spinner');\n",
              "      quickchartButtonEl.classList.add('colab-df-quickchart-complete');\n",
              "    }\n",
              "    (() => {\n",
              "      let quickchartButtonEl =\n",
              "        document.querySelector('#df-d49bc5ba-81d8-405f-b31e-6b9419a925d8 button');\n",
              "      quickchartButtonEl.style.display =\n",
              "        google.colab.kernel.accessAllowed ? 'block' : 'none';\n",
              "    })();\n",
              "  </script>\n",
              "</div>\n",
              "\n",
              "    </div>\n",
              "  </div>\n"
            ]
          },
          "metadata": {},
          "execution_count": 56
        }
      ]
    },
    {
      "cell_type": "code",
      "source": [
        "df.info()"
      ],
      "metadata": {
        "colab": {
          "base_uri": "https://localhost:8080/"
        },
        "id": "dlQRXOBE2uPx",
        "outputId": "1ab68bb6-003d-492e-9a15-da0eb168a0fc"
      },
      "execution_count": 57,
      "outputs": [
        {
          "output_type": "stream",
          "name": "stdout",
          "text": [
            "<class 'pandas.core.frame.DataFrame'>\n",
            "RangeIndex: 4000 entries, 0 to 3999\n",
            "Data columns (total 9 columns):\n",
            " #   Column       Non-Null Count  Dtype  \n",
            "---  ------       --------------  -----  \n",
            " 0   A_id         4000 non-null   float64\n",
            " 1   Size         4000 non-null   float64\n",
            " 2   Weight       4000 non-null   float64\n",
            " 3   Sweetness    4000 non-null   float64\n",
            " 4   Crunchiness  4000 non-null   float64\n",
            " 5   Juiciness    4000 non-null   float64\n",
            " 6   Ripeness     4000 non-null   float64\n",
            " 7   Acidity      4000 non-null   object \n",
            " 8   Quality      4000 non-null   object \n",
            "dtypes: float64(7), object(2)\n",
            "memory usage: 281.4+ KB\n"
          ]
        }
      ]
    },
    {
      "cell_type": "code",
      "source": [
        "df.isnull().sum()"
      ],
      "metadata": {
        "colab": {
          "base_uri": "https://localhost:8080/"
        },
        "id": "FcvXM1Hb23O5",
        "outputId": "0c3c4922-f910-4da0-cd05-aeca53348dd2"
      },
      "execution_count": 58,
      "outputs": [
        {
          "output_type": "execute_result",
          "data": {
            "text/plain": [
              "A_id           0\n",
              "Size           0\n",
              "Weight         0\n",
              "Sweetness      0\n",
              "Crunchiness    0\n",
              "Juiciness      0\n",
              "Ripeness       0\n",
              "Acidity        0\n",
              "Quality        0\n",
              "dtype: int64"
            ]
          },
          "metadata": {},
          "execution_count": 58
        }
      ]
    },
    {
      "cell_type": "code",
      "source": [
        "df.fillna(0, inplace=True)"
      ],
      "metadata": {
        "id": "BUeB2owm3F7u"
      },
      "execution_count": 59,
      "outputs": []
    },
    {
      "cell_type": "code",
      "source": [
        "df.drop('A_id', axis=1, inplace = True)"
      ],
      "metadata": {
        "id": "IVmxxGPi3Pw_"
      },
      "execution_count": 60,
      "outputs": []
    },
    {
      "cell_type": "code",
      "source": [
        "df.head()"
      ],
      "metadata": {
        "colab": {
          "base_uri": "https://localhost:8080/",
          "height": 226
        },
        "id": "ySSkuNMf3ipy",
        "outputId": "dcc3aad7-6eef-4e67-b2e7-44d703941bc1"
      },
      "execution_count": 61,
      "outputs": [
        {
          "output_type": "execute_result",
          "data": {
            "text/plain": [
              "       Size    Weight  Sweetness  Crunchiness  Juiciness  Ripeness  \\\n",
              "0 -3.970049 -2.512336   5.346330    -1.012009   1.844900  0.329840   \n",
              "1 -1.195217 -2.839257   3.664059     1.588232   0.853286  0.867530   \n",
              "2 -0.292024 -1.351282  -1.738429    -0.342616   2.838636 -0.038033   \n",
              "3 -0.657196 -2.271627   1.324874    -0.097875   3.637970 -3.413761   \n",
              "4  1.364217 -1.296612  -0.384658    -0.553006   3.030874 -1.303849   \n",
              "\n",
              "        Acidity Quality  \n",
              "0  -0.491590483    good  \n",
              "1  -0.722809367    good  \n",
              "2   2.621636473     bad  \n",
              "3   0.790723217    good  \n",
              "4   0.501984036    good  "
            ],
            "text/html": [
              "\n",
              "  <div id=\"df-33bdaa7f-5aed-42d7-8a63-de6d507d3c4a\" class=\"colab-df-container\">\n",
              "    <div>\n",
              "<style scoped>\n",
              "    .dataframe tbody tr th:only-of-type {\n",
              "        vertical-align: middle;\n",
              "    }\n",
              "\n",
              "    .dataframe tbody tr th {\n",
              "        vertical-align: top;\n",
              "    }\n",
              "\n",
              "    .dataframe thead th {\n",
              "        text-align: right;\n",
              "    }\n",
              "</style>\n",
              "<table border=\"1\" class=\"dataframe\">\n",
              "  <thead>\n",
              "    <tr style=\"text-align: right;\">\n",
              "      <th></th>\n",
              "      <th>Size</th>\n",
              "      <th>Weight</th>\n",
              "      <th>Sweetness</th>\n",
              "      <th>Crunchiness</th>\n",
              "      <th>Juiciness</th>\n",
              "      <th>Ripeness</th>\n",
              "      <th>Acidity</th>\n",
              "      <th>Quality</th>\n",
              "    </tr>\n",
              "  </thead>\n",
              "  <tbody>\n",
              "    <tr>\n",
              "      <th>0</th>\n",
              "      <td>-3.970049</td>\n",
              "      <td>-2.512336</td>\n",
              "      <td>5.346330</td>\n",
              "      <td>-1.012009</td>\n",
              "      <td>1.844900</td>\n",
              "      <td>0.329840</td>\n",
              "      <td>-0.491590483</td>\n",
              "      <td>good</td>\n",
              "    </tr>\n",
              "    <tr>\n",
              "      <th>1</th>\n",
              "      <td>-1.195217</td>\n",
              "      <td>-2.839257</td>\n",
              "      <td>3.664059</td>\n",
              "      <td>1.588232</td>\n",
              "      <td>0.853286</td>\n",
              "      <td>0.867530</td>\n",
              "      <td>-0.722809367</td>\n",
              "      <td>good</td>\n",
              "    </tr>\n",
              "    <tr>\n",
              "      <th>2</th>\n",
              "      <td>-0.292024</td>\n",
              "      <td>-1.351282</td>\n",
              "      <td>-1.738429</td>\n",
              "      <td>-0.342616</td>\n",
              "      <td>2.838636</td>\n",
              "      <td>-0.038033</td>\n",
              "      <td>2.621636473</td>\n",
              "      <td>bad</td>\n",
              "    </tr>\n",
              "    <tr>\n",
              "      <th>3</th>\n",
              "      <td>-0.657196</td>\n",
              "      <td>-2.271627</td>\n",
              "      <td>1.324874</td>\n",
              "      <td>-0.097875</td>\n",
              "      <td>3.637970</td>\n",
              "      <td>-3.413761</td>\n",
              "      <td>0.790723217</td>\n",
              "      <td>good</td>\n",
              "    </tr>\n",
              "    <tr>\n",
              "      <th>4</th>\n",
              "      <td>1.364217</td>\n",
              "      <td>-1.296612</td>\n",
              "      <td>-0.384658</td>\n",
              "      <td>-0.553006</td>\n",
              "      <td>3.030874</td>\n",
              "      <td>-1.303849</td>\n",
              "      <td>0.501984036</td>\n",
              "      <td>good</td>\n",
              "    </tr>\n",
              "  </tbody>\n",
              "</table>\n",
              "</div>\n",
              "    <div class=\"colab-df-buttons\">\n",
              "\n",
              "  <div class=\"colab-df-container\">\n",
              "    <button class=\"colab-df-convert\" onclick=\"convertToInteractive('df-33bdaa7f-5aed-42d7-8a63-de6d507d3c4a')\"\n",
              "            title=\"Convert this dataframe to an interactive table.\"\n",
              "            style=\"display:none;\">\n",
              "\n",
              "  <svg xmlns=\"http://www.w3.org/2000/svg\" height=\"24px\" viewBox=\"0 -960 960 960\">\n",
              "    <path d=\"M120-120v-720h720v720H120Zm60-500h600v-160H180v160Zm220 220h160v-160H400v160Zm0 220h160v-160H400v160ZM180-400h160v-160H180v160Zm440 0h160v-160H620v160ZM180-180h160v-160H180v160Zm440 0h160v-160H620v160Z\"/>\n",
              "  </svg>\n",
              "    </button>\n",
              "\n",
              "  <style>\n",
              "    .colab-df-container {\n",
              "      display:flex;\n",
              "      gap: 12px;\n",
              "    }\n",
              "\n",
              "    .colab-df-convert {\n",
              "      background-color: #E8F0FE;\n",
              "      border: none;\n",
              "      border-radius: 50%;\n",
              "      cursor: pointer;\n",
              "      display: none;\n",
              "      fill: #1967D2;\n",
              "      height: 32px;\n",
              "      padding: 0 0 0 0;\n",
              "      width: 32px;\n",
              "    }\n",
              "\n",
              "    .colab-df-convert:hover {\n",
              "      background-color: #E2EBFA;\n",
              "      box-shadow: 0px 1px 2px rgba(60, 64, 67, 0.3), 0px 1px 3px 1px rgba(60, 64, 67, 0.15);\n",
              "      fill: #174EA6;\n",
              "    }\n",
              "\n",
              "    .colab-df-buttons div {\n",
              "      margin-bottom: 4px;\n",
              "    }\n",
              "\n",
              "    [theme=dark] .colab-df-convert {\n",
              "      background-color: #3B4455;\n",
              "      fill: #D2E3FC;\n",
              "    }\n",
              "\n",
              "    [theme=dark] .colab-df-convert:hover {\n",
              "      background-color: #434B5C;\n",
              "      box-shadow: 0px 1px 3px 1px rgba(0, 0, 0, 0.15);\n",
              "      filter: drop-shadow(0px 1px 2px rgba(0, 0, 0, 0.3));\n",
              "      fill: #FFFFFF;\n",
              "    }\n",
              "  </style>\n",
              "\n",
              "    <script>\n",
              "      const buttonEl =\n",
              "        document.querySelector('#df-33bdaa7f-5aed-42d7-8a63-de6d507d3c4a button.colab-df-convert');\n",
              "      buttonEl.style.display =\n",
              "        google.colab.kernel.accessAllowed ? 'block' : 'none';\n",
              "\n",
              "      async function convertToInteractive(key) {\n",
              "        const element = document.querySelector('#df-33bdaa7f-5aed-42d7-8a63-de6d507d3c4a');\n",
              "        const dataTable =\n",
              "          await google.colab.kernel.invokeFunction('convertToInteractive',\n",
              "                                                    [key], {});\n",
              "        if (!dataTable) return;\n",
              "\n",
              "        const docLinkHtml = 'Like what you see? Visit the ' +\n",
              "          '<a target=\"_blank\" href=https://colab.research.google.com/notebooks/data_table.ipynb>data table notebook</a>'\n",
              "          + ' to learn more about interactive tables.';\n",
              "        element.innerHTML = '';\n",
              "        dataTable['output_type'] = 'display_data';\n",
              "        await google.colab.output.renderOutput(dataTable, element);\n",
              "        const docLink = document.createElement('div');\n",
              "        docLink.innerHTML = docLinkHtml;\n",
              "        element.appendChild(docLink);\n",
              "      }\n",
              "    </script>\n",
              "  </div>\n",
              "\n",
              "\n",
              "<div id=\"df-2b6e977a-f0bd-4e88-a00f-a2122f4f9177\">\n",
              "  <button class=\"colab-df-quickchart\" onclick=\"quickchart('df-2b6e977a-f0bd-4e88-a00f-a2122f4f9177')\"\n",
              "            title=\"Suggest charts\"\n",
              "            style=\"display:none;\">\n",
              "\n",
              "<svg xmlns=\"http://www.w3.org/2000/svg\" height=\"24px\"viewBox=\"0 0 24 24\"\n",
              "     width=\"24px\">\n",
              "    <g>\n",
              "        <path d=\"M19 3H5c-1.1 0-2 .9-2 2v14c0 1.1.9 2 2 2h14c1.1 0 2-.9 2-2V5c0-1.1-.9-2-2-2zM9 17H7v-7h2v7zm4 0h-2V7h2v10zm4 0h-2v-4h2v4z\"/>\n",
              "    </g>\n",
              "</svg>\n",
              "  </button>\n",
              "\n",
              "<style>\n",
              "  .colab-df-quickchart {\n",
              "      --bg-color: #E8F0FE;\n",
              "      --fill-color: #1967D2;\n",
              "      --hover-bg-color: #E2EBFA;\n",
              "      --hover-fill-color: #174EA6;\n",
              "      --disabled-fill-color: #AAA;\n",
              "      --disabled-bg-color: #DDD;\n",
              "  }\n",
              "\n",
              "  [theme=dark] .colab-df-quickchart {\n",
              "      --bg-color: #3B4455;\n",
              "      --fill-color: #D2E3FC;\n",
              "      --hover-bg-color: #434B5C;\n",
              "      --hover-fill-color: #FFFFFF;\n",
              "      --disabled-bg-color: #3B4455;\n",
              "      --disabled-fill-color: #666;\n",
              "  }\n",
              "\n",
              "  .colab-df-quickchart {\n",
              "    background-color: var(--bg-color);\n",
              "    border: none;\n",
              "    border-radius: 50%;\n",
              "    cursor: pointer;\n",
              "    display: none;\n",
              "    fill: var(--fill-color);\n",
              "    height: 32px;\n",
              "    padding: 0;\n",
              "    width: 32px;\n",
              "  }\n",
              "\n",
              "  .colab-df-quickchart:hover {\n",
              "    background-color: var(--hover-bg-color);\n",
              "    box-shadow: 0 1px 2px rgba(60, 64, 67, 0.3), 0 1px 3px 1px rgba(60, 64, 67, 0.15);\n",
              "    fill: var(--button-hover-fill-color);\n",
              "  }\n",
              "\n",
              "  .colab-df-quickchart-complete:disabled,\n",
              "  .colab-df-quickchart-complete:disabled:hover {\n",
              "    background-color: var(--disabled-bg-color);\n",
              "    fill: var(--disabled-fill-color);\n",
              "    box-shadow: none;\n",
              "  }\n",
              "\n",
              "  .colab-df-spinner {\n",
              "    border: 2px solid var(--fill-color);\n",
              "    border-color: transparent;\n",
              "    border-bottom-color: var(--fill-color);\n",
              "    animation:\n",
              "      spin 1s steps(1) infinite;\n",
              "  }\n",
              "\n",
              "  @keyframes spin {\n",
              "    0% {\n",
              "      border-color: transparent;\n",
              "      border-bottom-color: var(--fill-color);\n",
              "      border-left-color: var(--fill-color);\n",
              "    }\n",
              "    20% {\n",
              "      border-color: transparent;\n",
              "      border-left-color: var(--fill-color);\n",
              "      border-top-color: var(--fill-color);\n",
              "    }\n",
              "    30% {\n",
              "      border-color: transparent;\n",
              "      border-left-color: var(--fill-color);\n",
              "      border-top-color: var(--fill-color);\n",
              "      border-right-color: var(--fill-color);\n",
              "    }\n",
              "    40% {\n",
              "      border-color: transparent;\n",
              "      border-right-color: var(--fill-color);\n",
              "      border-top-color: var(--fill-color);\n",
              "    }\n",
              "    60% {\n",
              "      border-color: transparent;\n",
              "      border-right-color: var(--fill-color);\n",
              "    }\n",
              "    80% {\n",
              "      border-color: transparent;\n",
              "      border-right-color: var(--fill-color);\n",
              "      border-bottom-color: var(--fill-color);\n",
              "    }\n",
              "    90% {\n",
              "      border-color: transparent;\n",
              "      border-bottom-color: var(--fill-color);\n",
              "    }\n",
              "  }\n",
              "</style>\n",
              "\n",
              "  <script>\n",
              "    async function quickchart(key) {\n",
              "      const quickchartButtonEl =\n",
              "        document.querySelector('#' + key + ' button');\n",
              "      quickchartButtonEl.disabled = true;  // To prevent multiple clicks.\n",
              "      quickchartButtonEl.classList.add('colab-df-spinner');\n",
              "      try {\n",
              "        const charts = await google.colab.kernel.invokeFunction(\n",
              "            'suggestCharts', [key], {});\n",
              "      } catch (error) {\n",
              "        console.error('Error during call to suggestCharts:', error);\n",
              "      }\n",
              "      quickchartButtonEl.classList.remove('colab-df-spinner');\n",
              "      quickchartButtonEl.classList.add('colab-df-quickchart-complete');\n",
              "    }\n",
              "    (() => {\n",
              "      let quickchartButtonEl =\n",
              "        document.querySelector('#df-2b6e977a-f0bd-4e88-a00f-a2122f4f9177 button');\n",
              "      quickchartButtonEl.style.display =\n",
              "        google.colab.kernel.accessAllowed ? 'block' : 'none';\n",
              "    })();\n",
              "  </script>\n",
              "</div>\n",
              "\n",
              "    </div>\n",
              "  </div>\n"
            ]
          },
          "metadata": {},
          "execution_count": 61
        }
      ]
    },
    {
      "cell_type": "code",
      "source": [
        "correlation_matrix = df.corr()\n",
        "\n",
        "\n",
        "print(correlation_matrix)\n",
        "\n",
        "\n",
        "import seaborn as sns\n",
        "\n",
        "\n",
        "plt.figure(figsize=(10, 8))\n",
        "sns.heatmap(correlation_matrix, annot=True, cmap='coolwarm', fmt=\".2f\")\n",
        "plt.show()"
      ],
      "metadata": {
        "colab": {
          "base_uri": "https://localhost:8080/",
          "height": 737
        },
        "id": "6OEaABlv3m2u",
        "outputId": "3556ca9f-3954-4901-b8e7-47d8bf328322"
      },
      "execution_count": 62,
      "outputs": [
        {
          "output_type": "stream",
          "name": "stderr",
          "text": [
            "<ipython-input-62-c6a08e7aad37>:1: FutureWarning: The default value of numeric_only in DataFrame.corr is deprecated. In a future version, it will default to False. Select only valid columns or specify the value of numeric_only to silence this warning.\n",
            "  correlation_matrix = df.corr()\n"
          ]
        },
        {
          "output_type": "stream",
          "name": "stdout",
          "text": [
            "                 Size    Weight  Sweetness  Crunchiness  Juiciness  Ripeness\n",
            "Size         1.000000 -0.170702  -0.324680     0.169868  -0.018892 -0.134773\n",
            "Weight      -0.170702  1.000000  -0.154246    -0.095882  -0.092263 -0.243824\n",
            "Sweetness   -0.324680 -0.154246   1.000000    -0.037552   0.095882 -0.273800\n",
            "Crunchiness  0.169868 -0.095882  -0.037552     1.000000  -0.259607 -0.201982\n",
            "Juiciness   -0.018892 -0.092263   0.095882    -0.259607   1.000000 -0.097144\n",
            "Ripeness    -0.134773 -0.243824  -0.273800    -0.201982  -0.097144  1.000000\n"
          ]
        },
        {
          "output_type": "display_data",
          "data": {
            "text/plain": [
              "<Figure size 1000x800 with 2 Axes>"
            ],
            "image/png": "[encoded data removed]"
          },
          "metadata": {}
        }
      ]
    },
    {
      "cell_type": "code",
      "source": [
        "df.describe()\n"
      ],
      "metadata": {
        "colab": {
          "base_uri": "https://localhost:8080/",
          "height": 320
        },
        "id": "iKXnSdwmXi2f",
        "outputId": "d169eef3-85b9-4d16-cbc6-9bdf958df898"
      },
      "execution_count": 63,
      "outputs": [
        {
          "output_type": "execute_result",
          "data": {
            "text/plain": [
              "              Size       Weight    Sweetness  Crunchiness    Juiciness  \\\n",
              "count  4000.000000  4000.000000  4000.000000  4000.000000  4000.000000   \n",
              "mean     -0.503015    -0.989547    -0.470479     0.985478     0.512118   \n",
              "std       1.928059     1.602507     1.943441     1.402757     1.930286   \n",
              "min      -7.151703    -7.149848    -6.894485    -6.055058    -5.961897   \n",
              "25%      -1.816765    -2.011770    -1.738425     0.062764    -0.801286   \n",
              "50%      -0.513703    -0.984736    -0.504758     0.998249     0.534219   \n",
              "75%       0.805526     0.030976     0.801922     1.894234     1.835976   \n",
              "max       6.406367     5.790714     6.374916     7.619852     7.364403   \n",
              "\n",
              "          Ripeness  \n",
              "count  4000.000000  \n",
              "mean      0.498277  \n",
              "std       1.874427  \n",
              "min      -5.864599  \n",
              "25%      -0.771677  \n",
              "50%       0.503445  \n",
              "75%       1.766212  \n",
              "max       7.237837  "
            ],
            "text/html": [
              "\n",
              "  <div id=\"df-792b95d5-b989-4deb-b100-6f05ee8cf2ec\" class=\"colab-df-container\">\n",
              "    <div>\n",
              "<style scoped>\n",
              "    .dataframe tbody tr th:only-of-type {\n",
              "        vertical-align: middle;\n",
              "    }\n",
              "\n",
              "    .dataframe tbody tr th {\n",
              "        vertical-align: top;\n",
              "    }\n",
              "\n",
              "    .dataframe thead th {\n",
              "        text-align: right;\n",
              "    }\n",
              "</style>\n",
              "<table border=\"1\" class=\"dataframe\">\n",
              "  <thead>\n",
              "    <tr style=\"text-align: right;\">\n",
              "      <th></th>\n",
              "      <th>Size</th>\n",
              "      <th>Weight</th>\n",
              "      <th>Sweetness</th>\n",
              "      <th>Crunchiness</th>\n",
              "      <th>Juiciness</th>\n",
              "      <th>Ripeness</th>\n",
              "    </tr>\n",
              "  </thead>\n",
              "  <tbody>\n",
              "    <tr>\n",
              "      <th>count</th>\n",
              "      <td>4000.000000</td>\n",
              "      <td>4000.000000</td>\n",
              "      <td>4000.000000</td>\n",
              "      <td>4000.000000</td>\n",
              "      <td>4000.000000</td>\n",
              "      <td>4000.000000</td>\n",
              "    </tr>\n",
              "    <tr>\n",
              "      <th>mean</th>\n",
              "      <td>-0.503015</td>\n",
              "      <td>-0.989547</td>\n",
              "      <td>-0.470479</td>\n",
              "      <td>0.985478</td>\n",
              "      <td>0.512118</td>\n",
              "      <td>0.498277</td>\n",
              "    </tr>\n",
              "    <tr>\n",
              "      <th>std</th>\n",
              "      <td>1.928059</td>\n",
              "      <td>1.602507</td>\n",
              "      <td>1.943441</td>\n",
              "      <td>1.402757</td>\n",
              "      <td>1.930286</td>\n",
              "      <td>1.874427</td>\n",
              "    </tr>\n",
              "    <tr>\n",
              "      <th>min</th>\n",
              "      <td>-7.151703</td>\n",
              "      <td>-7.149848</td>\n",
              "      <td>-6.894485</td>\n",
              "      <td>-6.055058</td>\n",
              "      <td>-5.961897</td>\n",
              "      <td>-5.864599</td>\n",
              "    </tr>\n",
              "    <tr>\n",
              "      <th>25%</th>\n",
              "      <td>-1.816765</td>\n",
              "      <td>-2.011770</td>\n",
              "      <td>-1.738425</td>\n",
              "      <td>0.062764</td>\n",
              "      <td>-0.801286</td>\n",
              "      <td>-0.771677</td>\n",
              "    </tr>\n",
              "    <tr>\n",
              "      <th>50%</th>\n",
              "      <td>-0.513703</td>\n",
              "      <td>-0.984736</td>\n",
              "      <td>-0.504758</td>\n",
              "      <td>0.998249</td>\n",
              "      <td>0.534219</td>\n",
              "      <td>0.503445</td>\n",
              "    </tr>\n",
              "    <tr>\n",
              "      <th>75%</th>\n",
              "      <td>0.805526</td>\n",
              "      <td>0.030976</td>\n",
              "      <td>0.801922</td>\n",
              "      <td>1.894234</td>\n",
              "      <td>1.835976</td>\n",
              "      <td>1.766212</td>\n",
              "    </tr>\n",
              "    <tr>\n",
              "      <th>max</th>\n",
              "      <td>6.406367</td>\n",
              "      <td>5.790714</td>\n",
              "      <td>6.374916</td>\n",
              "      <td>7.619852</td>\n",
              "      <td>7.364403</td>\n",
              "      <td>7.237837</td>\n",
              "    </tr>\n",
              "  </tbody>\n",
              "</table>\n",
              "</div>\n",
              "    <div class=\"colab-df-buttons\">\n",
              "\n",
              "  <div class=\"colab-df-container\">\n",
              "    <button class=\"colab-df-convert\" onclick=\"convertToInteractive('df-792b95d5-b989-4deb-b100-6f05ee8cf2ec')\"\n",
              "            title=\"Convert this dataframe to an interactive table.\"\n",
              "            style=\"display:none;\">\n",
              "\n",
              "  <svg xmlns=\"http://www.w3.org/2000/svg\" height=\"24px\" viewBox=\"0 -960 960 960\">\n",
              "    <path d=\"M120-120v-720h720v720H120Zm60-500h600v-160H180v160Zm220 220h160v-160H400v160Zm0 220h160v-160H400v160ZM180-400h160v-160H180v160Zm440 0h160v-160H620v160ZM180-180h160v-160H180v160Zm440 0h160v-160H620v160Z\"/>\n",
              "  </svg>\n",
              "    </button>\n",
              "\n",
              "  <style>\n",
              "    .colab-df-container {\n",
              "      display:flex;\n",
              "      gap: 12px;\n",
              "    }\n",
              "\n",
              "    .colab-df-convert {\n",
              "      background-color: #E8F0FE;\n",
              "      border: none;\n",
              "      border-radius: 50%;\n",
              "      cursor: pointer;\n",
              "      display: none;\n",
              "      fill: #1967D2;\n",
              "      height: 32px;\n",
              "      padding: 0 0 0 0;\n",
              "      width: 32px;\n",
              "    }\n",
              "\n",
              "    .colab-df-convert:hover {\n",
              "      background-color: #E2EBFA;\n",
              "      box-shadow: 0px 1px 2px rgba(60, 64, 67, 0.3), 0px 1px 3px 1px rgba(60, 64, 67, 0.15);\n",
              "      fill: #174EA6;\n",
              "    }\n",
              "\n",
              "    .colab-df-buttons div {\n",
              "      margin-bottom: 4px;\n",
              "    }\n",
              "\n",
              "    [theme=dark] .colab-df-convert {\n",
              "      background-color: #3B4455;\n",
              "      fill: #D2E3FC;\n",
              "    }\n",
              "\n",
              "    [theme=dark] .colab-df-convert:hover {\n",
              "      background-color: #434B5C;\n",
              "      box-shadow: 0px 1px 3px 1px rgba(0, 0, 0, 0.15);\n",
              "      filter: drop-shadow(0px 1px 2px rgba(0, 0, 0, 0.3));\n",
              "      fill: #FFFFFF;\n",
              "    }\n",
              "  </style>\n",
              "\n",
              "    <script>\n",
              "      const buttonEl =\n",
              "        document.querySelector('#df-792b95d5-b989-4deb-b100-6f05ee8cf2ec button.colab-df-convert');\n",
              "      buttonEl.style.display =\n",
              "        google.colab.kernel.accessAllowed ? 'block' : 'none';\n",
              "\n",
              "      async function convertToInteractive(key) {\n",
              "        const element = document.querySelector('#df-792b95d5-b989-4deb-b100-6f05ee8cf2ec');\n",
              "        const dataTable =\n",
              "          await google.colab.kernel.invokeFunction('convertToInteractive',\n",
              "                                                    [key], {});\n",
              "        if (!dataTable) return;\n",
              "\n",
              "        const docLinkHtml = 'Like what you see? Visit the ' +\n",
              "          '<a target=\"_blank\" href=https://colab.research.google.com/notebooks/data_table.ipynb>data table notebook</a>'\n",
              "          + ' to learn more about interactive tables.';\n",
              "        element.innerHTML = '';\n",
              "        dataTable['output_type'] = 'display_data';\n",
              "        await google.colab.output.renderOutput(dataTable, element);\n",
              "        const docLink = document.createElement('div');\n",
              "        docLink.innerHTML = docLinkHtml;\n",
              "        element.appendChild(docLink);\n",
              "      }\n",
              "    </script>\n",
              "  </div>\n",
              "\n",
              "\n",
              "<div id=\"df-0ee6c56c-081e-494b-86ed-66d61723e8b5\">\n",
              "  <button class=\"colab-df-quickchart\" onclick=\"quickchart('df-0ee6c56c-081e-494b-86ed-66d61723e8b5')\"\n",
              "            title=\"Suggest charts\"\n",
              "            style=\"display:none;\">\n",
              "\n",
              "<svg xmlns=\"http://www.w3.org/2000/svg\" height=\"24px\"viewBox=\"0 0 24 24\"\n",
              "     width=\"24px\">\n",
              "    <g>\n",
              "        <path d=\"M19 3H5c-1.1 0-2 .9-2 2v14c0 1.1.9 2 2 2h14c1.1 0 2-.9 2-2V5c0-1.1-.9-2-2-2zM9 17H7v-7h2v7zm4 0h-2V7h2v10zm4 0h-2v-4h2v4z\"/>\n",
              "    </g>\n",
              "</svg>\n",
              "  </button>\n",
              "\n",
              "<style>\n",
              "  .colab-df-quickchart {\n",
              "      --bg-color: #E8F0FE;\n",
              "      --fill-color: #1967D2;\n",
              "      --hover-bg-color: #E2EBFA;\n",
              "      --hover-fill-color: #174EA6;\n",
              "      --disabled-fill-color: #AAA;\n",
              "      --disabled-bg-color: #DDD;\n",
              "  }\n",
              "\n",
              "  [theme=dark] .colab-df-quickchart {\n",
              "      --bg-color: #3B4455;\n",
              "      --fill-color: #D2E3FC;\n",
              "      --hover-bg-color: #434B5C;\n",
              "      --hover-fill-color: #FFFFFF;\n",
              "      --disabled-bg-color: #3B4455;\n",
              "      --disabled-fill-color: #666;\n",
              "  }\n",
              "\n",
              "  .colab-df-quickchart {\n",
              "    background-color: var(--bg-color);\n",
              "    border: none;\n",
              "    border-radius: 50%;\n",
              "    cursor: pointer;\n",
              "    display: none;\n",
              "    fill: var(--fill-color);\n",
              "    height: 32px;\n",
              "    padding: 0;\n",
              "    width: 32px;\n",
              "  }\n",
              "\n",
              "  .colab-df-quickchart:hover {\n",
              "    background-color: var(--hover-bg-color);\n",
              "    box-shadow: 0 1px 2px rgba(60, 64, 67, 0.3), 0 1px 3px 1px rgba(60, 64, 67, 0.15);\n",
              "    fill: var(--button-hover-fill-color);\n",
              "  }\n",
              "\n",
              "  .colab-df-quickchart-complete:disabled,\n",
              "  .colab-df-quickchart-complete:disabled:hover {\n",
              "    background-color: var(--disabled-bg-color);\n",
              "    fill: var(--disabled-fill-color);\n",
              "    box-shadow: none;\n",
              "  }\n",
              "\n",
              "  .colab-df-spinner {\n",
              "    border: 2px solid var(--fill-color);\n",
              "    border-color: transparent;\n",
              "    border-bottom-color: var(--fill-color);\n",
              "    animation:\n",
              "      spin 1s steps(1) infinite;\n",
              "  }\n",
              "\n",
              "  @keyframes spin {\n",
              "    0% {\n",
              "      border-color: transparent;\n",
              "      border-bottom-color: var(--fill-color);\n",
              "      border-left-color: var(--fill-color);\n",
              "    }\n",
              "    20% {\n",
              "      border-color: transparent;\n",
              "      border-left-color: var(--fill-color);\n",
              "      border-top-color: var(--fill-color);\n",
              "    }\n",
              "    30% {\n",
              "      border-color: transparent;\n",
              "      border-left-color: var(--fill-color);\n",
              "      border-top-color: var(--fill-color);\n",
              "      border-right-color: var(--fill-color);\n",
              "    }\n",
              "    40% {\n",
              "      border-color: transparent;\n",
              "      border-right-color: var(--fill-color);\n",
              "      border-top-color: var(--fill-color);\n",
              "    }\n",
              "    60% {\n",
              "      border-color: transparent;\n",
              "      border-right-color: var(--fill-color);\n",
              "    }\n",
              "    80% {\n",
              "      border-color: transparent;\n",
              "      border-right-color: var(--fill-color);\n",
              "      border-bottom-color: var(--fill-color);\n",
              "    }\n",
              "    90% {\n",
              "      border-color: transparent;\n",
              "      border-bottom-color: var(--fill-color);\n",
              "    }\n",
              "  }\n",
              "</style>\n",
              "\n",
              "  <script>\n",
              "    async function quickchart(key) {\n",
              "      const quickchartButtonEl =\n",
              "        document.querySelector('#' + key + ' button');\n",
              "      quickchartButtonEl.disabled = true;  // To prevent multiple clicks.\n",
              "      quickchartButtonEl.classList.add('colab-df-spinner');\n",
              "      try {\n",
              "        const charts = await google.colab.kernel.invokeFunction(\n",
              "            'suggestCharts', [key], {});\n",
              "      } catch (error) {\n",
              "        console.error('Error during call to suggestCharts:', error);\n",
              "      }\n",
              "      quickchartButtonEl.classList.remove('colab-df-spinner');\n",
              "      quickchartButtonEl.classList.add('colab-df-quickchart-complete');\n",
              "    }\n",
              "    (() => {\n",
              "      let quickchartButtonEl =\n",
              "        document.querySelector('#df-0ee6c56c-081e-494b-86ed-66d61723e8b5 button');\n",
              "      quickchartButtonEl.style.display =\n",
              "        google.colab.kernel.accessAllowed ? 'block' : 'none';\n",
              "    })();\n",
              "  </script>\n",
              "</div>\n",
              "\n",
              "    </div>\n",
              "  </div>\n"
            ]
          },
          "metadata": {},
          "execution_count": 63
        }
      ]
    },
    {
      "cell_type": "code",
      "source": [
        "df['Quality'].value_counts()"
      ],
      "metadata": {
        "colab": {
          "base_uri": "https://localhost:8080/"
        },
        "id": "IslNsYjDYKiS",
        "outputId": "c4e2c9d9-e169-4163-ef9f-db29cb4cd78e"
      },
      "execution_count": 79,
      "outputs": [
        {
          "output_type": "execute_result",
          "data": {
            "text/plain": [
              "1    2004\n",
              "0    1996\n",
              "Name: Quality, dtype: int64"
            ]
          },
          "metadata": {},
          "execution_count": 79
        }
      ]
    },
    {
      "cell_type": "code",
      "source": [
        "df['Quality'].replace('bad', 0, inplace=True)\n",
        "df['Quality'].replace('good', 1, inplace=True)"
      ],
      "metadata": {
        "id": "St-63OcHYSDS"
      },
      "execution_count": 80,
      "outputs": []
    },
    {
      "cell_type": "code",
      "source": [
        "df['Quality'].value_counts()"
      ],
      "metadata": {
        "colab": {
          "base_uri": "https://localhost:8080/"
        },
        "id": "6Wb1uj3fY4vx",
        "outputId": "231023c6-43c9-4dcd-cba1-985c0f2f3399"
      },
      "execution_count": 81,
      "outputs": [
        {
          "output_type": "execute_result",
          "data": {
            "text/plain": [
              "1    2004\n",
              "0    1996\n",
              "Name: Quality, dtype: int64"
            ]
          },
          "metadata": {},
          "execution_count": 81
        }
      ]
    },
    {
      "cell_type": "code",
      "source": [
        "x = df.drop(columns = 'Quality', axis = 1)\n",
        "y = df['Quality']"
      ],
      "metadata": {
        "id": "47qJ6eWRY6q1"
      },
      "execution_count": 82,
      "outputs": []
    },
    {
      "cell_type": "code",
      "source": [
        "print(x)"
      ],
      "metadata": {
        "colab": {
          "base_uri": "https://localhost:8080/"
        },
        "id": "3nVnQb_AZomX",
        "outputId": "9d5a5a0c-9723-42dc-dfde-a8466ec9e9bc"
      },
      "execution_count": 83,
      "outputs": [
        {
          "output_type": "stream",
          "name": "stdout",
          "text": [
            "          Size    Weight  Sweetness  Crunchiness  Juiciness  Ripeness  \\\n",
            "0    -3.970049 -2.512336   5.346330    -1.012009   1.844900  0.329840   \n",
            "1    -1.195217 -2.839257   3.664059     1.588232   0.853286  0.867530   \n",
            "2    -0.292024 -1.351282  -1.738429    -0.342616   2.838636 -0.038033   \n",
            "3    -0.657196 -2.271627   1.324874    -0.097875   3.637970 -3.413761   \n",
            "4     1.364217 -1.296612  -0.384658    -0.553006   3.030874 -1.303849   \n",
            "...        ...       ...        ...          ...        ...       ...   \n",
            "3995  0.059386 -1.067408  -3.714549     0.473052   1.697986  2.244055   \n",
            "3996 -0.293118  1.949253  -0.204020    -0.640196   0.024523 -1.087900   \n",
            "3997 -2.634515 -2.138247  -2.440461     0.657223   2.199709  4.763859   \n",
            "3998 -4.008004 -1.779337   2.366397    -0.200329   2.161435  0.214488   \n",
            "3999  0.278540 -1.715505   0.121217    -1.154075   1.266677 -0.776571   \n",
            "\n",
            "           Acidity  \n",
            "0     -0.491590483  \n",
            "1     -0.722809367  \n",
            "2      2.621636473  \n",
            "3      0.790723217  \n",
            "4      0.501984036  \n",
            "...            ...  \n",
            "3995   0.137784369  \n",
            "3996   1.854235285  \n",
            "3997  -1.334611391  \n",
            "3998  -2.229719806  \n",
            "3999   1.599796456  \n",
            "\n",
            "[4000 rows x 7 columns]\n"
          ]
        }
      ]
    },
    {
      "cell_type": "code",
      "source": [
        "print(y)"
      ],
      "metadata": {
        "colab": {
          "base_uri": "https://localhost:8080/"
        },
        "id": "4kGJGINSZquX",
        "outputId": "3c113aa7-d0c2-4710-8591-b2e43b524914"
      },
      "execution_count": 84,
      "outputs": [
        {
          "output_type": "stream",
          "name": "stdout",
          "text": [
            "0       1\n",
            "1       1\n",
            "2       0\n",
            "3       1\n",
            "4       1\n",
            "       ..\n",
            "3995    0\n",
            "3996    1\n",
            "3997    0\n",
            "3998    1\n",
            "3999    1\n",
            "Name: Quality, Length: 4000, dtype: int64\n"
          ]
        }
      ]
    },
    {
      "cell_type": "code",
      "source": [
        "x_train, x_test, y_train, y_test = train_test_split(x,y, test_size = 0.2, random_state = 2)"
      ],
      "metadata": {
        "id": "WYc46UBEaDLs"
      },
      "execution_count": 97,
      "outputs": []
    },
    {
      "cell_type": "code",
      "source": [
        "print(x_train)"
      ],
      "metadata": {
        "colab": {
          "base_uri": "https://localhost:8080/"
        },
        "id": "Df6b0XRQb3Uy",
        "outputId": "a8bb84a1-a339-4b44-e378-3ff76aa2ea6b"
      },
      "execution_count": 86,
      "outputs": [
        {
          "output_type": "stream",
          "name": "stdout",
          "text": [
            "          Size    Weight  Sweetness  Crunchiness  Juiciness  Ripeness  \\\n",
            "2774  1.749177 -0.672324  -0.639736    -0.443877   0.465553 -0.323230   \n",
            "2247 -3.696848  0.761064   0.987403     2.574531   3.974331 -2.365228   \n",
            "3034 -1.149329 -0.268539  -0.306435     1.210006  -0.527832 -0.405038   \n",
            "1893  1.457536 -1.088102  -0.718263    -2.046923   2.717242 -0.235078   \n",
            "3095 -1.053627  0.168311   0.108895     2.525975  -2.108337  0.131820   \n",
            "...        ...       ...        ...          ...        ...       ...   \n",
            "3606 -0.643458 -0.107457  -1.041029     2.152756   0.592408 -2.736255   \n",
            "1608 -1.167452 -2.279614   1.242500     2.690916   0.019712  1.536990   \n",
            "2541 -3.824104 -0.653506   2.017481    -0.650462  -0.267903 -3.810387   \n",
            "2575  2.180187 -1.511394  -2.686208    -2.396660   1.132262  2.050631   \n",
            "3240  0.101584 -0.315758  -1.972458     0.584135   2.133440 -0.009840   \n",
            "\n",
            "           Acidity  \n",
            "2774   0.215333082  \n",
            "2247  -2.839214332  \n",
            "3034  -0.782556409  \n",
            "1893   1.126991099  \n",
            "3095   1.239641077  \n",
            "...            ...  \n",
            "3606  -1.824904108  \n",
            "1608   1.455562203  \n",
            "2541  -0.293752288  \n",
            "2575  -0.228236467  \n",
            "3240   2.662200873  \n",
            "\n",
            "[3160 rows x 7 columns]\n"
          ]
        }
      ]
    },
    {
      "cell_type": "code",
      "source": [
        "print(y)"
      ],
      "metadata": {
        "colab": {
          "base_uri": "https://localhost:8080/"
        },
        "id": "yIHnnonde-sz",
        "outputId": "25e3ef53-7160-4c25-c24d-fdbf2e460f34"
      },
      "execution_count": 96,
      "outputs": [
        {
          "output_type": "stream",
          "name": "stdout",
          "text": [
            "0       1\n",
            "1       1\n",
            "2       0\n",
            "3       1\n",
            "4       1\n",
            "       ..\n",
            "3995    0\n",
            "3996    1\n",
            "3997    0\n",
            "3998    1\n",
            "3999    1\n",
            "Name: Quality, Length: 4000, dtype: int64\n"
          ]
        }
      ]
    },
    {
      "cell_type": "code",
      "source": [
        "print(x.shape,x_train.shape,x_test.shape)"
      ],
      "metadata": {
        "colab": {
          "base_uri": "https://localhost:8080/"
        },
        "id": "5ZzzddcXakaQ",
        "outputId": "0253339f-8501-4ae7-fba7-3097e2ae00d6"
      },
      "execution_count": 98,
      "outputs": [
        {
          "output_type": "stream",
          "name": "stdout",
          "text": [
            "(4000, 7) (3200, 7) (800, 7)\n"
          ]
        }
      ]
    },
    {
      "cell_type": "code",
      "source": [
        "from sklearn.preprocessing import StandardScaler\n",
        "scaler = StandardScaler()\n",
        "X_train_std = scaler.fit_transform(x_train)\n",
        "X_test_std = scaler.transform(x_test)"
      ],
      "metadata": {
        "id": "wKvz0bMGf9Xx"
      },
      "execution_count": 100,
      "outputs": []
    },
    {
      "cell_type": "code",
      "source": [
        "import tensorflow as tf\n",
        "tf.random.set_seed(3)\n",
        "from tensorflow import keras"
      ],
      "metadata": {
        "id": "ZonmpKdLbBOP"
      },
      "execution_count": 101,
      "outputs": []
    },
    {
      "cell_type": "code",
      "source": [
        "model = keras.Sequential([\n",
        "                          keras.layers.Flatten(input_shape=(7,)),\n",
        "                          keras.layers.Dense(20, activation='relu'),\n",
        "                          keras.layers.Dense(20, activation='relu'),\n",
        "                          keras.layers.Dense(20, activation='relu'),\n",
        "                          keras.layers.Dense(20, activation='relu'),\n",
        "                          keras.layers.Dense(2, activation='sigmoid')\n",
        "])\n",
        "\n",
        "\n"
      ],
      "metadata": {
        "id": "zsy3P0YybMbi"
      },
      "execution_count": 107,
      "outputs": []
    },
    {
      "cell_type": "code",
      "source": [
        "model.compile(optimizer='adam',\n",
        "              loss='sparse_categorical_crossentropy',\n",
        "              metrics=['accuracy'])"
      ],
      "metadata": {
        "id": "QOo5WAW4bYHH"
      },
      "execution_count": 108,
      "outputs": []
    },
    {
      "cell_type": "code",
      "source": [
        "# training the Meural Network\n",
        "\n",
        "history = model.fit(X_train_std, y_train, validation_split=0.1, epochs=40)"
      ],
      "metadata": {
        "colab": {
          "base_uri": "https://localhost:8080/"
        },
        "id": "LwwOUwhbbk2W",
        "outputId": "bc3540c5-8d67-4774-99a7-7c552de70fab"
      },
      "execution_count": 110,
      "outputs": [
        {
          "output_type": "stream",
          "name": "stdout",
          "text": [
            "Epoch 1/40\n",
            "90/90 [==============================] - 0s 5ms/step - loss: 0.2155 - accuracy: 0.9111 - val_loss: 0.3043 - val_accuracy: 0.8562\n",
            "Epoch 2/40\n",
            "90/90 [==============================] - 0s 4ms/step - loss: 0.2116 - accuracy: 0.9122 - val_loss: 0.2954 - val_accuracy: 0.8687\n",
            "Epoch 3/40\n",
            "90/90 [==============================] - 1s 6ms/step - loss: 0.2045 - accuracy: 0.9163 - val_loss: 0.2924 - val_accuracy: 0.8781\n",
            "Epoch 4/40\n",
            "90/90 [==============================] - 0s 4ms/step - loss: 0.2010 - accuracy: 0.9198 - val_loss: 0.2846 - val_accuracy: 0.8781\n",
            "Epoch 5/40\n",
            "90/90 [==============================] - 1s 6ms/step - loss: 0.1983 - accuracy: 0.9184 - val_loss: 0.2879 - val_accuracy: 0.8781\n",
            "Epoch 6/40\n",
            "90/90 [==============================] - 0s 4ms/step - loss: 0.1934 - accuracy: 0.9226 - val_loss: 0.3038 - val_accuracy: 0.8813\n",
            "Epoch 7/40\n",
            "90/90 [==============================] - 0s 5ms/step - loss: 0.1908 - accuracy: 0.9174 - val_loss: 0.2979 - val_accuracy: 0.8813\n",
            "Epoch 8/40\n",
            "90/90 [==============================] - 0s 5ms/step - loss: 0.1956 - accuracy: 0.9208 - val_loss: 0.3128 - val_accuracy: 0.8594\n",
            "Epoch 9/40\n",
            "90/90 [==============================] - 0s 4ms/step - loss: 0.1870 - accuracy: 0.9215 - val_loss: 0.2906 - val_accuracy: 0.8750\n",
            "Epoch 10/40\n",
            "90/90 [==============================] - 0s 5ms/step - loss: 0.1822 - accuracy: 0.9264 - val_loss: 0.2849 - val_accuracy: 0.8813\n",
            "Epoch 11/40\n",
            "90/90 [==============================] - 0s 5ms/step - loss: 0.1782 - accuracy: 0.9292 - val_loss: 0.2795 - val_accuracy: 0.8813\n",
            "Epoch 12/40\n",
            "90/90 [==============================] - 0s 4ms/step - loss: 0.1778 - accuracy: 0.9243 - val_loss: 0.2947 - val_accuracy: 0.8781\n",
            "Epoch 13/40\n",
            "90/90 [==============================] - 0s 4ms/step - loss: 0.1741 - accuracy: 0.9302 - val_loss: 0.3028 - val_accuracy: 0.8781\n",
            "Epoch 14/40\n",
            "90/90 [==============================] - 0s 3ms/step - loss: 0.1746 - accuracy: 0.9271 - val_loss: 0.3171 - val_accuracy: 0.8719\n",
            "Epoch 15/40\n",
            "90/90 [==============================] - 0s 3ms/step - loss: 0.1687 - accuracy: 0.9319 - val_loss: 0.3223 - val_accuracy: 0.8562\n",
            "Epoch 16/40\n",
            "90/90 [==============================] - 0s 3ms/step - loss: 0.1675 - accuracy: 0.9257 - val_loss: 0.2925 - val_accuracy: 0.8844\n",
            "Epoch 17/40\n",
            "90/90 [==============================] - 0s 2ms/step - loss: 0.1619 - accuracy: 0.9323 - val_loss: 0.2828 - val_accuracy: 0.8844\n",
            "Epoch 18/40\n",
            "90/90 [==============================] - 0s 2ms/step - loss: 0.1588 - accuracy: 0.9351 - val_loss: 0.3070 - val_accuracy: 0.8750\n",
            "Epoch 19/40\n",
            "90/90 [==============================] - 0s 2ms/step - loss: 0.1666 - accuracy: 0.9295 - val_loss: 0.2835 - val_accuracy: 0.9000\n",
            "Epoch 20/40\n",
            "90/90 [==============================] - 0s 3ms/step - loss: 0.1569 - accuracy: 0.9333 - val_loss: 0.2773 - val_accuracy: 0.8938\n",
            "Epoch 21/40\n",
            "90/90 [==============================] - 0s 2ms/step - loss: 0.1552 - accuracy: 0.9326 - val_loss: 0.2973 - val_accuracy: 0.8875\n",
            "Epoch 22/40\n",
            "90/90 [==============================] - 0s 2ms/step - loss: 0.1539 - accuracy: 0.9382 - val_loss: 0.2878 - val_accuracy: 0.8938\n",
            "Epoch 23/40\n",
            "90/90 [==============================] - 0s 2ms/step - loss: 0.1510 - accuracy: 0.9378 - val_loss: 0.2790 - val_accuracy: 0.8844\n",
            "Epoch 24/40\n",
            "90/90 [==============================] - 0s 3ms/step - loss: 0.1477 - accuracy: 0.9378 - val_loss: 0.2987 - val_accuracy: 0.8844\n",
            "Epoch 25/40\n",
            "90/90 [==============================] - 0s 2ms/step - loss: 0.1506 - accuracy: 0.9340 - val_loss: 0.2923 - val_accuracy: 0.8906\n",
            "Epoch 26/40\n",
            "90/90 [==============================] - 0s 3ms/step - loss: 0.1493 - accuracy: 0.9337 - val_loss: 0.2908 - val_accuracy: 0.8844\n",
            "Epoch 27/40\n",
            "90/90 [==============================] - 0s 3ms/step - loss: 0.1492 - accuracy: 0.9361 - val_loss: 0.3146 - val_accuracy: 0.8813\n",
            "Epoch 28/40\n",
            "90/90 [==============================] - 0s 3ms/step - loss: 0.1415 - accuracy: 0.9392 - val_loss: 0.2886 - val_accuracy: 0.9031\n",
            "Epoch 29/40\n",
            "90/90 [==============================] - 0s 3ms/step - loss: 0.1405 - accuracy: 0.9406 - val_loss: 0.3070 - val_accuracy: 0.8875\n",
            "Epoch 30/40\n",
            "90/90 [==============================] - 0s 3ms/step - loss: 0.1417 - accuracy: 0.9420 - val_loss: 0.3125 - val_accuracy: 0.8875\n",
            "Epoch 31/40\n",
            "90/90 [==============================] - 0s 3ms/step - loss: 0.1390 - accuracy: 0.9417 - val_loss: 0.3070 - val_accuracy: 0.8938\n",
            "Epoch 32/40\n",
            "90/90 [==============================] - 0s 3ms/step - loss: 0.1353 - accuracy: 0.9417 - val_loss: 0.2863 - val_accuracy: 0.8969\n",
            "Epoch 33/40\n",
            "90/90 [==============================] - 0s 3ms/step - loss: 0.1351 - accuracy: 0.9399 - val_loss: 0.3108 - val_accuracy: 0.8906\n",
            "Epoch 34/40\n",
            "90/90 [==============================] - 0s 3ms/step - loss: 0.1378 - accuracy: 0.9385 - val_loss: 0.2879 - val_accuracy: 0.8906\n",
            "Epoch 35/40\n",
            "90/90 [==============================] - 0s 3ms/step - loss: 0.1328 - accuracy: 0.9458 - val_loss: 0.2917 - val_accuracy: 0.8875\n",
            "Epoch 36/40\n",
            "90/90 [==============================] - 0s 2ms/step - loss: 0.1299 - accuracy: 0.9462 - val_loss: 0.2994 - val_accuracy: 0.8875\n",
            "Epoch 37/40\n",
            "90/90 [==============================] - 0s 3ms/step - loss: 0.1297 - accuracy: 0.9455 - val_loss: 0.2942 - val_accuracy: 0.8938\n",
            "Epoch 38/40\n",
            "90/90 [==============================] - 0s 3ms/step - loss: 0.1291 - accuracy: 0.9444 - val_loss: 0.3020 - val_accuracy: 0.8875\n",
            "Epoch 39/40\n",
            "90/90 [==============================] - 0s 2ms/step - loss: 0.1229 - accuracy: 0.9438 - val_loss: 0.3115 - val_accuracy: 0.8813\n",
            "Epoch 40/40\n",
            "90/90 [==============================] - 0s 2ms/step - loss: 0.1254 - accuracy: 0.9490 - val_loss: 0.2943 - val_accuracy: 0.8938\n"
          ]
        }
      ]
    },
    {
      "cell_type": "code",
      "source": [
        "model = keras.Sequential([\n",
        "                          keras.layers.Flatten(input_shape=(7,)),\n",
        "                          keras.layers.Dense(20, activation='relu'),\n",
        "                          keras.layers.Dense(20, activation='relu'),\n",
        "                          keras.layers.Dense(20, activation='relu'),\n",
        "                          keras.layers.Dense(20, activation='relu'),\n",
        "                          keras.layers.Dense(2, activation='sigmoid')\n",
        "])"
      ],
      "metadata": {
        "id": "t-cTkEEkebrq"
      },
      "execution_count": 113,
      "outputs": []
    },
    {
      "cell_type": "code",
      "source": [
        "from tensorflow.keras.optimizers import SGD\n",
        "\n",
        "model.compile(optimizer='SGD',\n",
        "              loss='sparse_categorical_crossentropy',\n",
        "              metrics=['accuracy'])"
      ],
      "metadata": {
        "id": "FYHbeomYg0M0"
      },
      "execution_count": 115,
      "outputs": []
    },
    {
      "cell_type": "code",
      "source": [
        "# training the Meural Network\n",
        "\n",
        "history = model.fit(X_train_std, y_train, validation_split=0.1, epochs=40)"
      ],
      "metadata": {
        "colab": {
          "base_uri": "https://localhost:8080/"
        },
        "id": "W4i5uKLJg1oY",
        "outputId": "6188d884-94c1-4f0a-db63-ea90f59a8f6b"
      },
      "execution_count": 117,
      "outputs": [
        {
          "output_type": "stream",
          "name": "stdout",
          "text": [
            "Epoch 1/40\n",
            "90/90 [==============================] - 1s 9ms/step - loss: 0.3271 - accuracy: 0.8549 - val_loss: 0.3733 - val_accuracy: 0.8313\n",
            "Epoch 2/40\n",
            "90/90 [==============================] - 2s 21ms/step - loss: 0.3205 - accuracy: 0.8545 - val_loss: 0.3677 - val_accuracy: 0.8344\n",
            "Epoch 3/40\n",
            "90/90 [==============================] - 1s 10ms/step - loss: 0.3139 - accuracy: 0.8587 - val_loss: 0.3626 - val_accuracy: 0.8375\n",
            "Epoch 4/40\n",
            "90/90 [==============================] - 1s 7ms/step - loss: 0.3081 - accuracy: 0.8635 - val_loss: 0.3647 - val_accuracy: 0.8281\n",
            "Epoch 5/40\n",
            "90/90 [==============================] - 0s 4ms/step - loss: 0.3024 - accuracy: 0.8670 - val_loss: 0.3622 - val_accuracy: 0.8313\n",
            "Epoch 6/40\n",
            "90/90 [==============================] - 0s 4ms/step - loss: 0.2986 - accuracy: 0.8684 - val_loss: 0.3466 - val_accuracy: 0.8375\n",
            "Epoch 7/40\n",
            "90/90 [==============================] - 0s 4ms/step - loss: 0.2939 - accuracy: 0.8694 - val_loss: 0.3459 - val_accuracy: 0.8438\n",
            "Epoch 8/40\n",
            "90/90 [==============================] - 0s 4ms/step - loss: 0.2903 - accuracy: 0.8743 - val_loss: 0.3391 - val_accuracy: 0.8438\n",
            "Epoch 9/40\n",
            "90/90 [==============================] - 0s 2ms/step - loss: 0.2870 - accuracy: 0.8740 - val_loss: 0.3498 - val_accuracy: 0.8469\n",
            "Epoch 10/40\n",
            "90/90 [==============================] - 0s 2ms/step - loss: 0.2848 - accuracy: 0.8771 - val_loss: 0.3374 - val_accuracy: 0.8562\n",
            "Epoch 11/40\n",
            "90/90 [==============================] - 0s 2ms/step - loss: 0.2805 - accuracy: 0.8792 - val_loss: 0.3308 - val_accuracy: 0.8500\n",
            "Epoch 12/40\n",
            "90/90 [==============================] - 0s 2ms/step - loss: 0.2768 - accuracy: 0.8830 - val_loss: 0.3413 - val_accuracy: 0.8531\n",
            "Epoch 13/40\n",
            "90/90 [==============================] - 0s 2ms/step - loss: 0.2746 - accuracy: 0.8833 - val_loss: 0.3328 - val_accuracy: 0.8562\n",
            "Epoch 14/40\n",
            "90/90 [==============================] - 0s 2ms/step - loss: 0.2717 - accuracy: 0.8854 - val_loss: 0.3292 - val_accuracy: 0.8531\n",
            "Epoch 15/40\n",
            "90/90 [==============================] - 0s 2ms/step - loss: 0.2696 - accuracy: 0.8861 - val_loss: 0.3299 - val_accuracy: 0.8531\n",
            "Epoch 16/40\n",
            "90/90 [==============================] - 0s 2ms/step - loss: 0.2668 - accuracy: 0.8899 - val_loss: 0.3244 - val_accuracy: 0.8531\n",
            "Epoch 17/40\n",
            "90/90 [==============================] - 0s 3ms/step - loss: 0.2646 - accuracy: 0.8910 - val_loss: 0.3215 - val_accuracy: 0.8562\n",
            "Epoch 18/40\n",
            "90/90 [==============================] - 0s 2ms/step - loss: 0.2636 - accuracy: 0.8892 - val_loss: 0.3285 - val_accuracy: 0.8531\n",
            "Epoch 19/40\n",
            "90/90 [==============================] - 0s 2ms/step - loss: 0.2614 - accuracy: 0.8920 - val_loss: 0.3239 - val_accuracy: 0.8531\n",
            "Epoch 20/40\n",
            "90/90 [==============================] - 0s 2ms/step - loss: 0.2581 - accuracy: 0.8913 - val_loss: 0.3339 - val_accuracy: 0.8531\n",
            "Epoch 21/40\n",
            "90/90 [==============================] - 0s 2ms/step - loss: 0.2572 - accuracy: 0.8892 - val_loss: 0.3281 - val_accuracy: 0.8625\n",
            "Epoch 22/40\n",
            "90/90 [==============================] - 0s 2ms/step - loss: 0.2568 - accuracy: 0.8913 - val_loss: 0.3198 - val_accuracy: 0.8656\n",
            "Epoch 23/40\n",
            "90/90 [==============================] - 0s 2ms/step - loss: 0.2559 - accuracy: 0.8951 - val_loss: 0.3178 - val_accuracy: 0.8562\n",
            "Epoch 24/40\n",
            "90/90 [==============================] - 0s 3ms/step - loss: 0.2538 - accuracy: 0.8924 - val_loss: 0.3213 - val_accuracy: 0.8687\n",
            "Epoch 25/40\n",
            "90/90 [==============================] - 0s 2ms/step - loss: 0.2513 - accuracy: 0.8944 - val_loss: 0.3148 - val_accuracy: 0.8594\n",
            "Epoch 26/40\n",
            "90/90 [==============================] - 0s 2ms/step - loss: 0.2504 - accuracy: 0.8920 - val_loss: 0.3351 - val_accuracy: 0.8625\n",
            "Epoch 27/40\n",
            "90/90 [==============================] - 0s 2ms/step - loss: 0.2498 - accuracy: 0.8934 - val_loss: 0.3325 - val_accuracy: 0.8687\n",
            "Epoch 28/40\n",
            "90/90 [==============================] - 0s 2ms/step - loss: 0.2479 - accuracy: 0.8938 - val_loss: 0.3228 - val_accuracy: 0.8625\n",
            "Epoch 29/40\n",
            "90/90 [==============================] - 0s 2ms/step - loss: 0.2463 - accuracy: 0.8983 - val_loss: 0.3156 - val_accuracy: 0.8719\n",
            "Epoch 30/40\n",
            "90/90 [==============================] - 0s 2ms/step - loss: 0.2448 - accuracy: 0.8941 - val_loss: 0.3176 - val_accuracy: 0.8687\n",
            "Epoch 31/40\n",
            "90/90 [==============================] - 0s 2ms/step - loss: 0.2447 - accuracy: 0.8965 - val_loss: 0.3144 - val_accuracy: 0.8687\n",
            "Epoch 32/40\n",
            "90/90 [==============================] - 0s 2ms/step - loss: 0.2418 - accuracy: 0.8976 - val_loss: 0.3094 - val_accuracy: 0.8750\n",
            "Epoch 33/40\n",
            "90/90 [==============================] - 0s 3ms/step - loss: 0.2417 - accuracy: 0.8972 - val_loss: 0.3175 - val_accuracy: 0.8719\n",
            "Epoch 34/40\n",
            "90/90 [==============================] - 0s 3ms/step - loss: 0.2405 - accuracy: 0.8979 - val_loss: 0.3174 - val_accuracy: 0.8687\n",
            "Epoch 35/40\n",
            "90/90 [==============================] - 0s 2ms/step - loss: 0.2388 - accuracy: 0.9003 - val_loss: 0.3173 - val_accuracy: 0.8656\n",
            "Epoch 36/40\n",
            "90/90 [==============================] - 0s 2ms/step - loss: 0.2379 - accuracy: 0.8948 - val_loss: 0.3248 - val_accuracy: 0.8750\n",
            "Epoch 37/40\n",
            "90/90 [==============================] - 0s 3ms/step - loss: 0.2377 - accuracy: 0.9007 - val_loss: 0.3129 - val_accuracy: 0.8781\n",
            "Epoch 38/40\n",
            "90/90 [==============================] - 0s 2ms/step - loss: 0.2363 - accuracy: 0.8944 - val_loss: 0.3213 - val_accuracy: 0.8719\n",
            "Epoch 39/40\n",
            "90/90 [==============================] - 0s 2ms/step - loss: 0.2361 - accuracy: 0.8979 - val_loss: 0.3111 - val_accuracy: 0.8687\n",
            "Epoch 40/40\n",
            "90/90 [==============================] - 0s 2ms/step - loss: 0.2346 - accuracy: 0.8997 - val_loss: 0.3084 - val_accuracy: 0.8781\n"
          ]
        }
      ]
    },
    {
      "cell_type": "code",
      "source": [
        "model = keras.Sequential([\n",
        "                          keras.layers.Flatten(input_shape=(7,)),\n",
        "                          keras.layers.Dense(20, activation='softmax'),\n",
        "                          keras.layers.Dense(20, activation='softmax'),\n",
        "                          keras.layers.Dense(20, activation='softmax'),\n",
        "                          keras.layers.Dense(2, activation='sigmoid')\n",
        "])\n",
        "\n",
        "model.compile(optimizer='adam',\n",
        "              loss='sparse_categorical_crossentropy',\n",
        "              metrics=['accuracy'])\n",
        "\n",
        "# training the Meural Network\n",
        "\n",
        "history = model.fit(X_train_std, y_train, validation_split=0.1, epochs=40)\n"
      ],
      "metadata": {
        "colab": {
          "base_uri": "https://localhost:8080/"
        },
        "id": "7flEED8-hPFy",
        "outputId": "3eefba87-8c37-4f54-f473-93d2947302d8"
      },
      "execution_count": 118,
      "outputs": [
        {
          "output_type": "stream",
          "name": "stdout",
          "text": [
            "Epoch 1/40\n",
            "90/90 [==============================] - 2s 8ms/step - loss: 0.6934 - accuracy: 0.5010 - val_loss: 0.6945 - val_accuracy: 0.4531\n",
            "Epoch 2/40\n",
            "90/90 [==============================] - 0s 3ms/step - loss: 0.6931 - accuracy: 0.5024 - val_loss: 0.6928 - val_accuracy: 0.5906\n",
            "Epoch 3/40\n",
            "90/90 [==============================] - 0s 3ms/step - loss: 0.6930 - accuracy: 0.5059 - val_loss: 0.6920 - val_accuracy: 0.5625\n",
            "Epoch 4/40\n",
            "90/90 [==============================] - 0s 3ms/step - loss: 0.6916 - accuracy: 0.6153 - val_loss: 0.6909 - val_accuracy: 0.6438\n",
            "Epoch 5/40\n",
            "90/90 [==============================] - 0s 3ms/step - loss: 0.6879 - accuracy: 0.6681 - val_loss: 0.6857 - val_accuracy: 0.7344\n",
            "Epoch 6/40\n",
            "90/90 [==============================] - 0s 3ms/step - loss: 0.6786 - accuracy: 0.7733 - val_loss: 0.6736 - val_accuracy: 0.7594\n",
            "Epoch 7/40\n",
            "90/90 [==============================] - 0s 3ms/step - loss: 0.6581 - accuracy: 0.7830 - val_loss: 0.6482 - val_accuracy: 0.7688\n",
            "Epoch 8/40\n",
            "90/90 [==============================] - 0s 3ms/step - loss: 0.6212 - accuracy: 0.7986 - val_loss: 0.6084 - val_accuracy: 0.7844\n",
            "Epoch 9/40\n",
            "90/90 [==============================] - 0s 2ms/step - loss: 0.5715 - accuracy: 0.8052 - val_loss: 0.5610 - val_accuracy: 0.8062\n",
            "Epoch 10/40\n",
            "90/90 [==============================] - 0s 2ms/step - loss: 0.5191 - accuracy: 0.8250 - val_loss: 0.5175 - val_accuracy: 0.8156\n",
            "Epoch 11/40\n",
            "90/90 [==============================] - 0s 3ms/step - loss: 0.4734 - accuracy: 0.8344 - val_loss: 0.4833 - val_accuracy: 0.8250\n",
            "Epoch 12/40\n",
            "90/90 [==============================] - 0s 3ms/step - loss: 0.4370 - accuracy: 0.8431 - val_loss: 0.4576 - val_accuracy: 0.8250\n",
            "Epoch 13/40\n",
            "90/90 [==============================] - 0s 3ms/step - loss: 0.4100 - accuracy: 0.8514 - val_loss: 0.4386 - val_accuracy: 0.8188\n",
            "Epoch 14/40\n",
            "90/90 [==============================] - 0s 3ms/step - loss: 0.3888 - accuracy: 0.8535 - val_loss: 0.4257 - val_accuracy: 0.8219\n",
            "Epoch 15/40\n",
            "90/90 [==============================] - 0s 3ms/step - loss: 0.3727 - accuracy: 0.8608 - val_loss: 0.4111 - val_accuracy: 0.8219\n",
            "Epoch 16/40\n",
            "90/90 [==============================] - 0s 3ms/step - loss: 0.3586 - accuracy: 0.8611 - val_loss: 0.4022 - val_accuracy: 0.8219\n",
            "Epoch 17/40\n",
            "90/90 [==============================] - 0s 3ms/step - loss: 0.3473 - accuracy: 0.8653 - val_loss: 0.3899 - val_accuracy: 0.8313\n",
            "Epoch 18/40\n",
            "90/90 [==============================] - 0s 3ms/step - loss: 0.3375 - accuracy: 0.8663 - val_loss: 0.3818 - val_accuracy: 0.8250\n",
            "Epoch 19/40\n",
            "90/90 [==============================] - 0s 3ms/step - loss: 0.3284 - accuracy: 0.8691 - val_loss: 0.3743 - val_accuracy: 0.8219\n",
            "Epoch 20/40\n",
            "90/90 [==============================] - 0s 4ms/step - loss: 0.3210 - accuracy: 0.8712 - val_loss: 0.3668 - val_accuracy: 0.8313\n",
            "Epoch 21/40\n",
            "90/90 [==============================] - 0s 5ms/step - loss: 0.3138 - accuracy: 0.8743 - val_loss: 0.3600 - val_accuracy: 0.8406\n",
            "Epoch 22/40\n",
            "90/90 [==============================] - 1s 6ms/step - loss: 0.3079 - accuracy: 0.8764 - val_loss: 0.3538 - val_accuracy: 0.8500\n",
            "Epoch 23/40\n",
            "90/90 [==============================] - 0s 5ms/step - loss: 0.3022 - accuracy: 0.8799 - val_loss: 0.3481 - val_accuracy: 0.8531\n",
            "Epoch 24/40\n",
            "90/90 [==============================] - 1s 6ms/step - loss: 0.2977 - accuracy: 0.8830 - val_loss: 0.3436 - val_accuracy: 0.8625\n",
            "Epoch 25/40\n",
            "90/90 [==============================] - 0s 5ms/step - loss: 0.2936 - accuracy: 0.8833 - val_loss: 0.3406 - val_accuracy: 0.8625\n",
            "Epoch 26/40\n",
            "90/90 [==============================] - 0s 4ms/step - loss: 0.2903 - accuracy: 0.8851 - val_loss: 0.3364 - val_accuracy: 0.8656\n",
            "Epoch 27/40\n",
            "90/90 [==============================] - 0s 3ms/step - loss: 0.2871 - accuracy: 0.8854 - val_loss: 0.3350 - val_accuracy: 0.8687\n",
            "Epoch 28/40\n",
            "90/90 [==============================] - 0s 3ms/step - loss: 0.2848 - accuracy: 0.8826 - val_loss: 0.3330 - val_accuracy: 0.8719\n",
            "Epoch 29/40\n",
            "90/90 [==============================] - 0s 3ms/step - loss: 0.2823 - accuracy: 0.8809 - val_loss: 0.3310 - val_accuracy: 0.8750\n",
            "Epoch 30/40\n",
            "90/90 [==============================] - 0s 3ms/step - loss: 0.2805 - accuracy: 0.8833 - val_loss: 0.3285 - val_accuracy: 0.8719\n",
            "Epoch 31/40\n",
            "90/90 [==============================] - 0s 4ms/step - loss: 0.2781 - accuracy: 0.8858 - val_loss: 0.3289 - val_accuracy: 0.8719\n",
            "Epoch 32/40\n",
            "90/90 [==============================] - 0s 3ms/step - loss: 0.2767 - accuracy: 0.8858 - val_loss: 0.3264 - val_accuracy: 0.8781\n",
            "Epoch 33/40\n",
            "90/90 [==============================] - 0s 3ms/step - loss: 0.2755 - accuracy: 0.8858 - val_loss: 0.3247 - val_accuracy: 0.8750\n",
            "Epoch 34/40\n",
            "90/90 [==============================] - 0s 3ms/step - loss: 0.2739 - accuracy: 0.8882 - val_loss: 0.3248 - val_accuracy: 0.8687\n",
            "Epoch 35/40\n",
            "90/90 [==============================] - 0s 3ms/step - loss: 0.2726 - accuracy: 0.8906 - val_loss: 0.3235 - val_accuracy: 0.8750\n",
            "Epoch 36/40\n",
            "90/90 [==============================] - 0s 3ms/step - loss: 0.2710 - accuracy: 0.8885 - val_loss: 0.3199 - val_accuracy: 0.8750\n",
            "Epoch 37/40\n",
            "90/90 [==============================] - 0s 3ms/step - loss: 0.2704 - accuracy: 0.8892 - val_loss: 0.3207 - val_accuracy: 0.8719\n",
            "Epoch 38/40\n",
            "90/90 [==============================] - 0s 3ms/step - loss: 0.2691 - accuracy: 0.8899 - val_loss: 0.3192 - val_accuracy: 0.8719\n",
            "Epoch 39/40\n",
            "90/90 [==============================] - 0s 3ms/step - loss: 0.2681 - accuracy: 0.8903 - val_loss: 0.3194 - val_accuracy: 0.8719\n",
            "Epoch 40/40\n",
            "90/90 [==============================] - 0s 3ms/step - loss: 0.2673 - accuracy: 0.8896 - val_loss: 0.3178 - val_accuracy: 0.8750\n"
          ]
        }
      ]
    },
    {
      "cell_type": "code",
      "source": [
        "model = keras.Sequential([\n",
        "                          keras.layers.Flatten(input_shape=(7,)),\n",
        "                          keras.layers.Dense(20, activation='tanh'),\n",
        "                          keras.layers.Dense(20, activation='tanh'),\n",
        "                          keras.layers.Dense(20, activation='tanh'),\n",
        "                          keras.layers.Dense(20, activation='tanh'),\n",
        "                          keras.layers.Dense(20, activation='tanh'),\n",
        "                          keras.layers.Dense(20, activation='tanh'),\n",
        "                          keras.layers.Dense(20, activation='tanh'),\n",
        "                          keras.layers.Dense(2, activation='sigmoid')\n",
        "])\n",
        "\n",
        "model.compile(optimizer='adam',\n",
        "              loss='sparse_categorical_crossentropy',\n",
        "              metrics=['accuracy'])\n",
        "\n",
        "# training the Meural Network\n",
        "\n",
        "history = model.fit(X_train_std, y_train, validation_split=0.1, epochs=40)\n"
      ],
      "metadata": {
        "colab": {
          "base_uri": "https://localhost:8080/"
        },
        "id": "T3ek_G6Shwxf",
        "outputId": "4a24dec6-3774-4396-bc52-a5aee24009c5"
      },
      "execution_count": 120,
      "outputs": [
        {
          "output_type": "stream",
          "name": "stdout",
          "text": [
            "Epoch 1/40\n",
            "90/90 [==============================] - 2s 5ms/step - loss: 0.5860 - accuracy: 0.6663 - val_loss: 0.5552 - val_accuracy: 0.7188\n",
            "Epoch 2/40\n",
            "90/90 [==============================] - 0s 3ms/step - loss: 0.4938 - accuracy: 0.7660 - val_loss: 0.5313 - val_accuracy: 0.7469\n",
            "Epoch 3/40\n",
            "90/90 [==============================] - 0s 3ms/step - loss: 0.4342 - accuracy: 0.8049 - val_loss: 0.4344 - val_accuracy: 0.7875\n",
            "Epoch 4/40\n",
            "90/90 [==============================] - 0s 3ms/step - loss: 0.3717 - accuracy: 0.8333 - val_loss: 0.4054 - val_accuracy: 0.8313\n",
            "Epoch 5/40\n",
            "90/90 [==============================] - 0s 3ms/step - loss: 0.3354 - accuracy: 0.8538 - val_loss: 0.3921 - val_accuracy: 0.8156\n",
            "Epoch 6/40\n",
            "90/90 [==============================] - 0s 3ms/step - loss: 0.3127 - accuracy: 0.8618 - val_loss: 0.3788 - val_accuracy: 0.8219\n",
            "Epoch 7/40\n",
            "90/90 [==============================] - 0s 3ms/step - loss: 0.2928 - accuracy: 0.8774 - val_loss: 0.3709 - val_accuracy: 0.8344\n",
            "Epoch 8/40\n",
            "90/90 [==============================] - 0s 3ms/step - loss: 0.2765 - accuracy: 0.8847 - val_loss: 0.3098 - val_accuracy: 0.8906\n",
            "Epoch 9/40\n",
            "90/90 [==============================] - 0s 3ms/step - loss: 0.2647 - accuracy: 0.8878 - val_loss: 0.3131 - val_accuracy: 0.8531\n",
            "Epoch 10/40\n",
            "90/90 [==============================] - 0s 3ms/step - loss: 0.2558 - accuracy: 0.8899 - val_loss: 0.3057 - val_accuracy: 0.8844\n",
            "Epoch 11/40\n",
            "90/90 [==============================] - 0s 3ms/step - loss: 0.2470 - accuracy: 0.8969 - val_loss: 0.2958 - val_accuracy: 0.8844\n",
            "Epoch 12/40\n",
            "90/90 [==============================] - 0s 3ms/step - loss: 0.2428 - accuracy: 0.9003 - val_loss: 0.3096 - val_accuracy: 0.8562\n",
            "Epoch 13/40\n",
            "90/90 [==============================] - 0s 3ms/step - loss: 0.2381 - accuracy: 0.8993 - val_loss: 0.2792 - val_accuracy: 0.9094\n",
            "Epoch 14/40\n",
            "90/90 [==============================] - 0s 3ms/step - loss: 0.2310 - accuracy: 0.9066 - val_loss: 0.3176 - val_accuracy: 0.8562\n",
            "Epoch 15/40\n",
            "90/90 [==============================] - 0s 3ms/step - loss: 0.2289 - accuracy: 0.8997 - val_loss: 0.2965 - val_accuracy: 0.8719\n",
            "Epoch 16/40\n",
            "90/90 [==============================] - 0s 3ms/step - loss: 0.2208 - accuracy: 0.9059 - val_loss: 0.2641 - val_accuracy: 0.8938\n",
            "Epoch 17/40\n",
            "90/90 [==============================] - 0s 3ms/step - loss: 0.2144 - accuracy: 0.9118 - val_loss: 0.2514 - val_accuracy: 0.9094\n",
            "Epoch 18/40\n",
            "90/90 [==============================] - 0s 3ms/step - loss: 0.2112 - accuracy: 0.9083 - val_loss: 0.2840 - val_accuracy: 0.9000\n",
            "Epoch 19/40\n",
            "90/90 [==============================] - 0s 3ms/step - loss: 0.2238 - accuracy: 0.9069 - val_loss: 0.2607 - val_accuracy: 0.9031\n",
            "Epoch 20/40\n",
            "90/90 [==============================] - 0s 3ms/step - loss: 0.2052 - accuracy: 0.9132 - val_loss: 0.2562 - val_accuracy: 0.9062\n",
            "Epoch 21/40\n",
            "90/90 [==============================] - 0s 3ms/step - loss: 0.1982 - accuracy: 0.9149 - val_loss: 0.2721 - val_accuracy: 0.8969\n",
            "Epoch 22/40\n",
            "90/90 [==============================] - 0s 3ms/step - loss: 0.2005 - accuracy: 0.9135 - val_loss: 0.2574 - val_accuracy: 0.8969\n",
            "Epoch 23/40\n",
            "90/90 [==============================] - 0s 3ms/step - loss: 0.1971 - accuracy: 0.9146 - val_loss: 0.2435 - val_accuracy: 0.9187\n",
            "Epoch 24/40\n",
            "90/90 [==============================] - 0s 3ms/step - loss: 0.1927 - accuracy: 0.9149 - val_loss: 0.2512 - val_accuracy: 0.9125\n",
            "Epoch 25/40\n",
            "90/90 [==============================] - 0s 3ms/step - loss: 0.1949 - accuracy: 0.9146 - val_loss: 0.2646 - val_accuracy: 0.8969\n",
            "Epoch 26/40\n",
            "90/90 [==============================] - 0s 3ms/step - loss: 0.1921 - accuracy: 0.9153 - val_loss: 0.2650 - val_accuracy: 0.8969\n",
            "Epoch 27/40\n",
            "90/90 [==============================] - 0s 3ms/step - loss: 0.1953 - accuracy: 0.9142 - val_loss: 0.2662 - val_accuracy: 0.9031\n",
            "Epoch 28/40\n",
            "90/90 [==============================] - 0s 4ms/step - loss: 0.1935 - accuracy: 0.9115 - val_loss: 0.2626 - val_accuracy: 0.9031\n",
            "Epoch 29/40\n",
            "90/90 [==============================] - 0s 5ms/step - loss: 0.1846 - accuracy: 0.9163 - val_loss: 0.2543 - val_accuracy: 0.9031\n",
            "Epoch 30/40\n",
            "90/90 [==============================] - 0s 5ms/step - loss: 0.1858 - accuracy: 0.9212 - val_loss: 0.2614 - val_accuracy: 0.9000\n",
            "Epoch 31/40\n",
            "90/90 [==============================] - 0s 5ms/step - loss: 0.1799 - accuracy: 0.9285 - val_loss: 0.2513 - val_accuracy: 0.9125\n",
            "Epoch 32/40\n",
            "90/90 [==============================] - 0s 5ms/step - loss: 0.1788 - accuracy: 0.9194 - val_loss: 0.2625 - val_accuracy: 0.8938\n",
            "Epoch 33/40\n",
            "90/90 [==============================] - 0s 3ms/step - loss: 0.1866 - accuracy: 0.9205 - val_loss: 0.2629 - val_accuracy: 0.9094\n",
            "Epoch 34/40\n",
            "90/90 [==============================] - 0s 4ms/step - loss: 0.1776 - accuracy: 0.9253 - val_loss: 0.2734 - val_accuracy: 0.8844\n",
            "Epoch 35/40\n",
            "90/90 [==============================] - 0s 3ms/step - loss: 0.1713 - accuracy: 0.9243 - val_loss: 0.2739 - val_accuracy: 0.8969\n",
            "Epoch 36/40\n",
            "90/90 [==============================] - 0s 3ms/step - loss: 0.1774 - accuracy: 0.9219 - val_loss: 0.2538 - val_accuracy: 0.8969\n",
            "Epoch 37/40\n",
            "90/90 [==============================] - 0s 3ms/step - loss: 0.1706 - accuracy: 0.9274 - val_loss: 0.2560 - val_accuracy: 0.8938\n",
            "Epoch 38/40\n",
            "90/90 [==============================] - 0s 3ms/step - loss: 0.1713 - accuracy: 0.9236 - val_loss: 0.2514 - val_accuracy: 0.9062\n",
            "Epoch 39/40\n",
            "90/90 [==============================] - 0s 3ms/step - loss: 0.1683 - accuracy: 0.9236 - val_loss: 0.2544 - val_accuracy: 0.8938\n",
            "Epoch 40/40\n",
            "90/90 [==============================] - 0s 3ms/step - loss: 0.1695 - accuracy: 0.9260 - val_loss: 0.2499 - val_accuracy: 0.9187\n"
          ]
        }
      ]
    },
    {
      "cell_type": "code",
      "source": [
        "model = keras.Sequential([\n",
        "                          keras.layers.Flatten(input_shape=(7,)),\n",
        "                          keras.layers.Dense(30, activation='relu'),\n",
        "                          keras.layers.Dense(30, activation='relu'),\n",
        "                          keras.layers.Dense(30, activation='relu'),\n",
        "                          keras.layers.Dense(30, activation='relu'),\n",
        "                          keras.layers.Dense(30, activation='relu'),\n",
        "                          keras.layers.Dense(30, activation='relu'),\n",
        "                          keras.layers.Dense(2, activation='sigmoid')\n",
        "])\n",
        "\n",
        "model.compile(optimizer='adam',\n",
        "              loss='sparse_categorical_crossentropy',\n",
        "              metrics=['accuracy'])\n",
        "\n",
        "# training the Meural Network\n",
        "\n",
        "history = model.fit(X_train_std, y_train, validation_split=0.1, epochs=40)\n"
      ],
      "metadata": {
        "colab": {
          "base_uri": "https://localhost:8080/"
        },
        "id": "s7WaTNLjh69X",
        "outputId": "11ee8838-37e1-475e-af88-74279dd9d680"
      },
      "execution_count": 128,
      "outputs": [
        {
          "output_type": "stream",
          "name": "stdout",
          "text": [
            "Epoch 1/40\n",
            "90/90 [==============================] - 2s 5ms/step - loss: 0.5660 - accuracy: 0.6958 - val_loss: 0.3877 - val_accuracy: 0.8188\n",
            "Epoch 2/40\n",
            "90/90 [==============================] - 0s 3ms/step - loss: 0.3545 - accuracy: 0.8431 - val_loss: 0.3567 - val_accuracy: 0.8469\n",
            "Epoch 3/40\n",
            "90/90 [==============================] - 0s 3ms/step - loss: 0.3137 - accuracy: 0.8604 - val_loss: 0.3409 - val_accuracy: 0.8656\n",
            "Epoch 4/40\n",
            "90/90 [==============================] - 0s 3ms/step - loss: 0.2945 - accuracy: 0.8677 - val_loss: 0.3357 - val_accuracy: 0.8625\n",
            "Epoch 5/40\n",
            "90/90 [==============================] - 0s 3ms/step - loss: 0.2797 - accuracy: 0.8764 - val_loss: 0.3430 - val_accuracy: 0.8750\n",
            "Epoch 6/40\n",
            "90/90 [==============================] - 0s 3ms/step - loss: 0.2702 - accuracy: 0.8858 - val_loss: 0.3249 - val_accuracy: 0.8781\n",
            "Epoch 7/40\n",
            "90/90 [==============================] - 0s 3ms/step - loss: 0.2580 - accuracy: 0.8851 - val_loss: 0.3182 - val_accuracy: 0.8656\n",
            "Epoch 8/40\n",
            "90/90 [==============================] - 0s 3ms/step - loss: 0.2512 - accuracy: 0.8965 - val_loss: 0.2983 - val_accuracy: 0.8781\n",
            "Epoch 9/40\n",
            "90/90 [==============================] - 0s 3ms/step - loss: 0.2463 - accuracy: 0.8969 - val_loss: 0.3479 - val_accuracy: 0.8594\n",
            "Epoch 10/40\n",
            "90/90 [==============================] - 0s 3ms/step - loss: 0.2444 - accuracy: 0.8948 - val_loss: 0.2887 - val_accuracy: 0.8844\n",
            "Epoch 11/40\n",
            "90/90 [==============================] - 0s 3ms/step - loss: 0.2274 - accuracy: 0.9028 - val_loss: 0.2970 - val_accuracy: 0.8813\n",
            "Epoch 12/40\n",
            "90/90 [==============================] - 0s 3ms/step - loss: 0.2301 - accuracy: 0.9010 - val_loss: 0.2870 - val_accuracy: 0.8750\n",
            "Epoch 13/40\n",
            "90/90 [==============================] - 0s 3ms/step - loss: 0.2167 - accuracy: 0.9062 - val_loss: 0.2980 - val_accuracy: 0.8781\n",
            "Epoch 14/40\n",
            "90/90 [==============================] - 0s 3ms/step - loss: 0.2111 - accuracy: 0.9042 - val_loss: 0.3121 - val_accuracy: 0.8844\n",
            "Epoch 15/40\n",
            "90/90 [==============================] - 0s 3ms/step - loss: 0.2072 - accuracy: 0.9101 - val_loss: 0.2815 - val_accuracy: 0.8938\n",
            "Epoch 16/40\n",
            "90/90 [==============================] - 0s 3ms/step - loss: 0.1923 - accuracy: 0.9191 - val_loss: 0.2717 - val_accuracy: 0.8875\n",
            "Epoch 17/40\n",
            "90/90 [==============================] - 0s 3ms/step - loss: 0.1928 - accuracy: 0.9191 - val_loss: 0.2559 - val_accuracy: 0.8938\n",
            "Epoch 18/40\n",
            "90/90 [==============================] - 0s 3ms/step - loss: 0.1811 - accuracy: 0.9236 - val_loss: 0.2804 - val_accuracy: 0.8938\n",
            "Epoch 19/40\n",
            "90/90 [==============================] - 0s 3ms/step - loss: 0.1823 - accuracy: 0.9274 - val_loss: 0.2557 - val_accuracy: 0.9094\n",
            "Epoch 20/40\n",
            "90/90 [==============================] - 0s 3ms/step - loss: 0.1752 - accuracy: 0.9212 - val_loss: 0.2621 - val_accuracy: 0.9125\n",
            "Epoch 21/40\n",
            "90/90 [==============================] - 0s 3ms/step - loss: 0.1684 - accuracy: 0.9288 - val_loss: 0.2861 - val_accuracy: 0.8969\n",
            "Epoch 22/40\n",
            "90/90 [==============================] - 0s 3ms/step - loss: 0.1625 - accuracy: 0.9295 - val_loss: 0.2679 - val_accuracy: 0.9125\n",
            "Epoch 23/40\n",
            "90/90 [==============================] - 0s 3ms/step - loss: 0.1522 - accuracy: 0.9396 - val_loss: 0.2666 - val_accuracy: 0.9094\n",
            "Epoch 24/40\n",
            "90/90 [==============================] - 0s 3ms/step - loss: 0.1468 - accuracy: 0.9358 - val_loss: 0.2769 - val_accuracy: 0.8969\n",
            "Epoch 25/40\n",
            "90/90 [==============================] - 0s 3ms/step - loss: 0.1501 - accuracy: 0.9406 - val_loss: 0.2574 - val_accuracy: 0.9156\n",
            "Epoch 26/40\n",
            "90/90 [==============================] - 0s 4ms/step - loss: 0.1399 - accuracy: 0.9406 - val_loss: 0.2702 - val_accuracy: 0.9125\n",
            "Epoch 27/40\n",
            "90/90 [==============================] - 0s 5ms/step - loss: 0.1444 - accuracy: 0.9441 - val_loss: 0.2856 - val_accuracy: 0.9062\n",
            "Epoch 28/40\n",
            "90/90 [==============================] - 0s 5ms/step - loss: 0.1324 - accuracy: 0.9441 - val_loss: 0.3151 - val_accuracy: 0.9031\n",
            "Epoch 29/40\n",
            "90/90 [==============================] - 0s 4ms/step - loss: 0.1419 - accuracy: 0.9382 - val_loss: 0.2814 - val_accuracy: 0.9031\n",
            "Epoch 30/40\n",
            "90/90 [==============================] - 0s 5ms/step - loss: 0.1315 - accuracy: 0.9441 - val_loss: 0.2721 - val_accuracy: 0.9062\n",
            "Epoch 31/40\n",
            "90/90 [==============================] - 0s 4ms/step - loss: 0.1225 - accuracy: 0.9510 - val_loss: 0.2883 - val_accuracy: 0.9062\n",
            "Epoch 32/40\n",
            "90/90 [==============================] - 0s 3ms/step - loss: 0.1194 - accuracy: 0.9517 - val_loss: 0.2512 - val_accuracy: 0.9156\n",
            "Epoch 33/40\n",
            "90/90 [==============================] - 0s 3ms/step - loss: 0.1199 - accuracy: 0.9507 - val_loss: 0.3230 - val_accuracy: 0.9031\n",
            "Epoch 34/40\n",
            "90/90 [==============================] - 0s 3ms/step - loss: 0.1293 - accuracy: 0.9444 - val_loss: 0.2879 - val_accuracy: 0.9125\n",
            "Epoch 35/40\n",
            "90/90 [==============================] - 0s 4ms/step - loss: 0.1092 - accuracy: 0.9538 - val_loss: 0.3255 - val_accuracy: 0.9031\n",
            "Epoch 36/40\n",
            "90/90 [==============================] - 0s 4ms/step - loss: 0.1157 - accuracy: 0.9542 - val_loss: 0.3064 - val_accuracy: 0.9156\n",
            "Epoch 37/40\n",
            "90/90 [==============================] - 0s 4ms/step - loss: 0.1065 - accuracy: 0.9559 - val_loss: 0.2745 - val_accuracy: 0.9156\n",
            "Epoch 38/40\n",
            "90/90 [==============================] - 0s 4ms/step - loss: 0.0968 - accuracy: 0.9628 - val_loss: 0.3387 - val_accuracy: 0.9031\n",
            "Epoch 39/40\n",
            "90/90 [==============================] - 0s 4ms/step - loss: 0.0998 - accuracy: 0.9587 - val_loss: 0.2999 - val_accuracy: 0.9156\n",
            "Epoch 40/40\n",
            "90/90 [==============================] - 0s 5ms/step - loss: 0.0945 - accuracy: 0.9618 - val_loss: 0.2816 - val_accuracy: 0.9281\n"
          ]
        }
      ]
    },
    {
      "cell_type": "code",
      "source": [
        "plt.plot(history.history['accuracy'])\n",
        "plt.plot(history.history['val_accuracy'])\n",
        "\n",
        "plt.title('model accuracy')\n",
        "plt.ylabel('accuracy')\n",
        "plt.xlabel('epoch')\n",
        "\n",
        "plt.legend(['training data', 'validation data'], loc = 'lower right')"
      ],
      "metadata": {
        "colab": {
          "base_uri": "https://localhost:8080/",
          "height": 490
        },
        "id": "WkAyo2ZoiQUm",
        "outputId": "067a1762-3952-4d7c-d034-15adb2bf6962"
      },
      "execution_count": 122,
      "outputs": [
        {
          "output_type": "execute_result",
          "data": {
            "text/plain": [
              "<matplotlib.legend.Legend at 0x79724092efb0>"
            ]
          },
          "metadata": {},
          "execution_count": 122
        },
        {
          "output_type": "display_data",
          "data": {
            "text/plain": [
              "<Figure size 640x480 with 1 Axes>"
            ],
            "image/png": "[encoded data removed]"
          },
          "metadata": {}
        }
      ]
    },
    {
      "cell_type": "code",
      "source": [
        "plt.plot(history.history['loss'])\n",
        "plt.plot(history.history['val_loss'])\n",
        "\n",
        "plt.title('model loss')\n",
        "plt.ylabel('loss')\n",
        "plt.xlabel('epoch')\n",
        "\n",
        "plt.legend(['training data', 'validation data'], loc = 'upper right')"
      ],
      "metadata": {
        "colab": {
          "base_uri": "https://localhost:8080/",
          "height": 490
        },
        "id": "hLFVby-miY68",
        "outputId": "98de4fff-183d-4d6e-f187-da9f4fa4de82"
      },
      "execution_count": 123,
      "outputs": [
        {
          "output_type": "execute_result",
          "data": {
            "text/plain": [
              "<matplotlib.legend.Legend at 0x79724345ac50>"
            ]
          },
          "metadata": {},
          "execution_count": 123
        },
        {
          "output_type": "display_data",
          "data": {
            "text/plain": [
              "<Figure size 640x480 with 1 Axes>"
            ],
            "image/png": "[encoded data removed]"
          },
          "metadata": {}
        }
      ]
    },
    {
      "cell_type": "code",
      "source": [
        "model = keras.Sequential([\n",
        "                          keras.layers.Flatten(input_shape=(7,)),\n",
        "                          keras.layers.Dense(20, activation='relu'),\n",
        "                          keras.layers.Dense(20, activation='relu'),\n",
        "                          keras.layers.Dense(20, activation='relu'),\n",
        "                          keras.layers.Dense(20, activation='relu'),\n",
        "                          keras.layers.Dense(2, activation='sigmoid')\n",
        "])\n",
        "\n",
        "model.compile(optimizer='adam',\n",
        "              loss='sparse_categorical_crossentropy',\n",
        "              metrics=['accuracy'])\n",
        "\n",
        "# training the Meural Network\n",
        "\n",
        "history = model.fit(X_train_std, y_train, validation_split=0.1, epochs=40)"
      ],
      "metadata": {
        "colab": {
          "base_uri": "https://localhost:8080/"
        },
        "id": "Rjk0BaQ5ib8F",
        "outputId": "3ec420f6-4ae1-4c87-9154-fea7f28c8bba"
      },
      "execution_count": 124,
      "outputs": [
        {
          "output_type": "stream",
          "name": "stdout",
          "text": [
            "Epoch 1/40\n",
            "90/90 [==============================] - 2s 8ms/step - loss: 0.6214 - accuracy: 0.6622 - val_loss: 0.5392 - val_accuracy: 0.7469\n",
            "Epoch 2/40\n",
            "90/90 [==============================] - 0s 5ms/step - loss: 0.4314 - accuracy: 0.8087 - val_loss: 0.4188 - val_accuracy: 0.8125\n",
            "Epoch 3/40\n",
            "90/90 [==============================] - 0s 3ms/step - loss: 0.3488 - accuracy: 0.8413 - val_loss: 0.3657 - val_accuracy: 0.8219\n",
            "Epoch 4/40\n",
            "90/90 [==============================] - 0s 2ms/step - loss: 0.3135 - accuracy: 0.8580 - val_loss: 0.3620 - val_accuracy: 0.8344\n",
            "Epoch 5/40\n",
            "90/90 [==============================] - 0s 3ms/step - loss: 0.2926 - accuracy: 0.8628 - val_loss: 0.3384 - val_accuracy: 0.8500\n",
            "Epoch 6/40\n",
            "90/90 [==============================] - 0s 3ms/step - loss: 0.2801 - accuracy: 0.8743 - val_loss: 0.3195 - val_accuracy: 0.8531\n",
            "Epoch 7/40\n",
            "90/90 [==============================] - 0s 2ms/step - loss: 0.2660 - accuracy: 0.8785 - val_loss: 0.3295 - val_accuracy: 0.8687\n",
            "Epoch 8/40\n",
            "90/90 [==============================] - 0s 3ms/step - loss: 0.2597 - accuracy: 0.8865 - val_loss: 0.3063 - val_accuracy: 0.8906\n",
            "Epoch 9/40\n",
            "90/90 [==============================] - 0s 3ms/step - loss: 0.2468 - accuracy: 0.8927 - val_loss: 0.3301 - val_accuracy: 0.8687\n",
            "Epoch 10/40\n",
            "90/90 [==============================] - 0s 3ms/step - loss: 0.2406 - accuracy: 0.8924 - val_loss: 0.2935 - val_accuracy: 0.8875\n",
            "Epoch 11/40\n",
            "90/90 [==============================] - 0s 3ms/step - loss: 0.2332 - accuracy: 0.8979 - val_loss: 0.3108 - val_accuracy: 0.8781\n",
            "Epoch 12/40\n",
            "90/90 [==============================] - 0s 2ms/step - loss: 0.2321 - accuracy: 0.9000 - val_loss: 0.2964 - val_accuracy: 0.8906\n",
            "Epoch 13/40\n",
            "90/90 [==============================] - 0s 2ms/step - loss: 0.2215 - accuracy: 0.9028 - val_loss: 0.3091 - val_accuracy: 0.8844\n",
            "Epoch 14/40\n",
            "90/90 [==============================] - 0s 3ms/step - loss: 0.2211 - accuracy: 0.9052 - val_loss: 0.3295 - val_accuracy: 0.8594\n",
            "Epoch 15/40\n",
            "90/90 [==============================] - 0s 2ms/step - loss: 0.2131 - accuracy: 0.9062 - val_loss: 0.3247 - val_accuracy: 0.8781\n",
            "Epoch 16/40\n",
            "90/90 [==============================] - 0s 3ms/step - loss: 0.2084 - accuracy: 0.9083 - val_loss: 0.2885 - val_accuracy: 0.9062\n",
            "Epoch 17/40\n",
            "90/90 [==============================] - 0s 2ms/step - loss: 0.2040 - accuracy: 0.9128 - val_loss: 0.2921 - val_accuracy: 0.8969\n",
            "Epoch 18/40\n",
            "90/90 [==============================] - 0s 3ms/step - loss: 0.2021 - accuracy: 0.9108 - val_loss: 0.3142 - val_accuracy: 0.8906\n",
            "Epoch 19/40\n",
            "90/90 [==============================] - 0s 2ms/step - loss: 0.2051 - accuracy: 0.9087 - val_loss: 0.2850 - val_accuracy: 0.8969\n",
            "Epoch 20/40\n",
            "90/90 [==============================] - 0s 3ms/step - loss: 0.1965 - accuracy: 0.9149 - val_loss: 0.2921 - val_accuracy: 0.9000\n",
            "Epoch 21/40\n",
            "90/90 [==============================] - 0s 3ms/step - loss: 0.1911 - accuracy: 0.9184 - val_loss: 0.2981 - val_accuracy: 0.8938\n",
            "Epoch 22/40\n",
            "90/90 [==============================] - 0s 3ms/step - loss: 0.1895 - accuracy: 0.9212 - val_loss: 0.2890 - val_accuracy: 0.8938\n",
            "Epoch 23/40\n",
            "90/90 [==============================] - 0s 2ms/step - loss: 0.1865 - accuracy: 0.9163 - val_loss: 0.2837 - val_accuracy: 0.9031\n",
            "Epoch 24/40\n",
            "90/90 [==============================] - 0s 3ms/step - loss: 0.1851 - accuracy: 0.9219 - val_loss: 0.2907 - val_accuracy: 0.8938\n",
            "Epoch 25/40\n",
            "90/90 [==============================] - 0s 2ms/step - loss: 0.1843 - accuracy: 0.9187 - val_loss: 0.2974 - val_accuracy: 0.8969\n",
            "Epoch 26/40\n",
            "90/90 [==============================] - 0s 4ms/step - loss: 0.1801 - accuracy: 0.9229 - val_loss: 0.3116 - val_accuracy: 0.8938\n",
            "Epoch 27/40\n",
            "90/90 [==============================] - 0s 4ms/step - loss: 0.1813 - accuracy: 0.9226 - val_loss: 0.3339 - val_accuracy: 0.8750\n",
            "Epoch 28/40\n",
            "90/90 [==============================] - 0s 4ms/step - loss: 0.1784 - accuracy: 0.9222 - val_loss: 0.3009 - val_accuracy: 0.8969\n",
            "Epoch 29/40\n",
            "90/90 [==============================] - 0s 4ms/step - loss: 0.1743 - accuracy: 0.9267 - val_loss: 0.3027 - val_accuracy: 0.8969\n",
            "Epoch 30/40\n",
            "90/90 [==============================] - 0s 4ms/step - loss: 0.1749 - accuracy: 0.9267 - val_loss: 0.3083 - val_accuracy: 0.8813\n",
            "Epoch 31/40\n",
            "90/90 [==============================] - 0s 4ms/step - loss: 0.1722 - accuracy: 0.9271 - val_loss: 0.3042 - val_accuracy: 0.8938\n",
            "Epoch 32/40\n",
            "90/90 [==============================] - 0s 2ms/step - loss: 0.1691 - accuracy: 0.9260 - val_loss: 0.3041 - val_accuracy: 0.8969\n",
            "Epoch 33/40\n",
            "90/90 [==============================] - 0s 3ms/step - loss: 0.1677 - accuracy: 0.9250 - val_loss: 0.3079 - val_accuracy: 0.8938\n",
            "Epoch 34/40\n",
            "90/90 [==============================] - 0s 2ms/step - loss: 0.1647 - accuracy: 0.9302 - val_loss: 0.2994 - val_accuracy: 0.9000\n",
            "Epoch 35/40\n",
            "90/90 [==============================] - 0s 3ms/step - loss: 0.1617 - accuracy: 0.9330 - val_loss: 0.3236 - val_accuracy: 0.8875\n",
            "Epoch 36/40\n",
            "90/90 [==============================] - 0s 2ms/step - loss: 0.1623 - accuracy: 0.9347 - val_loss: 0.3313 - val_accuracy: 0.8813\n",
            "Epoch 37/40\n",
            "90/90 [==============================] - 0s 3ms/step - loss: 0.1597 - accuracy: 0.9299 - val_loss: 0.3127 - val_accuracy: 0.8938\n",
            "Epoch 38/40\n",
            "90/90 [==============================] - 0s 3ms/step - loss: 0.1595 - accuracy: 0.9319 - val_loss: 0.3085 - val_accuracy: 0.8938\n",
            "Epoch 39/40\n",
            "90/90 [==============================] - 0s 2ms/step - loss: 0.1548 - accuracy: 0.9347 - val_loss: 0.3319 - val_accuracy: 0.8875\n",
            "Epoch 40/40\n",
            "90/90 [==============================] - 0s 3ms/step - loss: 0.1542 - accuracy: 0.9368 - val_loss: 0.3107 - val_accuracy: 0.8938\n"
          ]
        }
      ]
    },
    {
      "cell_type": "code",
      "source": [
        "plt.plot(history.history['accuracy'])\n",
        "plt.plot(history.history['val_accuracy'])\n",
        "\n",
        "plt.title('model accuracy')\n",
        "plt.ylabel('accuracy')\n",
        "plt.xlabel('epoch')\n",
        "\n",
        "plt.legend(['training data', 'validation data'], loc = 'lower right')"
      ],
      "metadata": {
        "colab": {
          "base_uri": "https://localhost:8080/",
          "height": 490
        },
        "id": "71qEMGbpiniv",
        "outputId": "db6b82a9-7c34-4d3b-a78f-10cb83e5dd18"
      },
      "execution_count": 125,
      "outputs": [
        {
          "output_type": "execute_result",
          "data": {
            "text/plain": [
              "<matplotlib.legend.Legend at 0x797231b5d8d0>"
            ]
          },
          "metadata": {},
          "execution_count": 125
        },
        {
          "output_type": "display_data",
          "data": {
            "text/plain": [
              "<Figure size 640x480 with 1 Axes>"
            ],
            "image/png": "[encoded data removed]"
          },
          "metadata": {}
        }
      ]
    },
    {
      "cell_type": "code",
      "source": [
        "loss, accuracy = model.evaluate(X_test_std, y_test)\n",
        "print(accuracy)"
      ],
      "metadata": {
        "colab": {
          "base_uri": "https://localhost:8080/"
        },
        "id": "pnh6U82MisIP",
        "outputId": "a2eede7e-6faa-4940-a229-6bda12d82029"
      },
      "execution_count": 129,
      "outputs": [
        {
          "output_type": "stream",
          "name": "stdout",
          "text": [
            "25/25 [==============================] - 0s 2ms/step - loss: 0.2440 - accuracy: 0.9162\n",
            "0.9162499904632568\n"
          ]
        }
      ]
    },
    {
      "cell_type": "code",
      "source": [
        "print(X_test_std.shape)\n",
        "print(X_test_std[0])"
      ],
      "metadata": {
        "colab": {
          "base_uri": "https://localhost:8080/"
        },
        "id": "-Qxf52maix8z",
        "outputId": "a02d62c8-7477-4a5d-d8a4-405e84ee4935"
      },
      "execution_count": 130,
      "outputs": [
        {
          "output_type": "stream",
          "name": "stdout",
          "text": [
            "(800, 7)\n",
            "[ 0.05005056 -0.95742945 -1.09332189 -0.48577166  1.5379072   0.96625658\n",
            "  1.5767148 ]\n"
          ]
        }
      ]
    },
    {
      "cell_type": "code",
      "source": [
        "Y_pred = model.predict(X_test_std)"
      ],
      "metadata": {
        "colab": {
          "base_uri": "https://localhost:8080/"
        },
        "id": "HqQof_BxkqoC",
        "outputId": "186fb6da-787d-49b4-d8a4-ab435be2a45b"
      },
      "execution_count": 131,
      "outputs": [
        {
          "output_type": "stream",
          "name": "stdout",
          "text": [
            "25/25 [==============================] - 0s 2ms/step\n"
          ]
        }
      ]
    },
    {
      "cell_type": "code",
      "source": [
        "print(Y_pred.shape)\n",
        "print(Y_pred[0])"
      ],
      "metadata": {
        "colab": {
          "base_uri": "https://localhost:8080/"
        },
        "id": "390yLc_WksPo",
        "outputId": "d60992ec-a0ce-4a28-ce35-aaf02ddf0741"
      },
      "execution_count": 132,
      "outputs": [
        {
          "output_type": "stream",
          "name": "stdout",
          "text": [
            "(800, 2)\n",
            "[0.9817532  0.00802549]\n"
          ]
        }
      ]
    },
    {
      "cell_type": "code",
      "source": [
        "print(X_test_std)"
      ],
      "metadata": {
        "colab": {
          "base_uri": "https://localhost:8080/"
        },
        "id": "_2_rZSVhkuYk",
        "outputId": "3bc8cebd-d782-40f1-bfa7-4b51a400e426"
      },
      "execution_count": 133,
      "outputs": [
        {
          "output_type": "stream",
          "name": "stdout",
          "text": [
            "[[ 0.05005056 -0.95742945 -1.09332189 ...  1.5379072   0.96625658\n",
            "   1.5767148 ]\n",
            " [-0.31959064  1.45950565 -0.10897085 ...  1.03802257 -2.34922775\n",
            "   0.37313925]\n",
            " [ 0.0517071   1.29926031  0.46869968 ... -0.91930213 -0.42152107\n",
            "  -0.37244699]\n",
            " ...\n",
            " [-0.45316478  0.89620982 -0.37406056 ...  0.86311612  0.16102485\n",
            "   0.89710611]\n",
            " [ 0.64813076  1.07002612 -0.84674454 ...  0.35340751 -0.41885495\n",
            "   0.58241446]\n",
            " [ 0.78746404 -0.54270122 -0.4680606  ... -0.13645191 -1.13068557\n",
            "  -0.06002313]]\n"
          ]
        }
      ]
    },
    {
      "cell_type": "code",
      "source": [
        "#  argmax function\n",
        "\n",
        "my_list = [0.25, 0.56]\n",
        "\n",
        "index_of_max_value = np.argmax(my_list)\n",
        "print(my_list)\n",
        "print(index_of_max_value)"
      ],
      "metadata": {
        "colab": {
          "base_uri": "https://localhost:8080/"
        },
        "id": "5iD87mN0kw1F",
        "outputId": "cc52c4c4-7dba-4a20-e80f-47fa35ba2004"
      },
      "execution_count": 134,
      "outputs": [
        {
          "output_type": "stream",
          "name": "stdout",
          "text": [
            "[0.25, 0.56]\n",
            "1\n"
          ]
        }
      ]
    },
    {
      "cell_type": "code",
      "source": [
        "# converting the prediction probability to class labels\n",
        "\n",
        "Y_pred_labels = [np.argmax(i) for i in Y_pred]\n",
        "print(Y_pred_labels)"
      ],
      "metadata": {
        "colab": {
          "base_uri": "https://localhost:8080/"
        },
        "id": "Eg3cyRuikzh3",
        "outputId": "f3401a10-07c6-4278-cd90-cb2e7e532db6"
      },
      "execution_count": 135,
      "outputs": [
        {
          "output_type": "stream",
          "name": "stdout",
          "text": [
            "[0, 1, 0, 0, 0, 0, 1, 1, 0, 0, 0, 0, 0, 0, 1, 0, 1, 0, 0, 1, 1, 0, 0, 1, 0, 1, 0, 0, 1, 1, 0, 1, 0, 0, 0, 0, 1, 0, 1, 1, 1, 1, 0, 1, 1, 1, 1, 1, 1, 1, 1, 0, 1, 1, 1, 0, 1, 0, 1, 0, 0, 1, 1, 1, 0, 1, 1, 1, 1, 1, 1, 0, 0, 0, 1, 0, 1, 1, 1, 0, 1, 1, 1, 1, 0, 0, 0, 0, 1, 1, 1, 0, 0, 1, 1, 1, 1, 0, 0, 1, 1, 0, 0, 1, 1, 0, 1, 1, 0, 1, 0, 1, 1, 1, 0, 1, 0, 1, 0, 0, 0, 1, 0, 1, 0, 1, 1, 0, 0, 0, 1, 0, 1, 1, 1, 0, 0, 1, 1, 0, 0, 1, 1, 0, 1, 0, 1, 1, 0, 1, 1, 1, 1, 1, 0, 0, 0, 1, 0, 0, 1, 0, 1, 1, 0, 0, 0, 1, 0, 1, 1, 0, 0, 1, 1, 1, 1, 1, 0, 1, 0, 0, 1, 0, 0, 0, 0, 0, 1, 0, 0, 0, 0, 0, 1, 0, 1, 1, 1, 0, 0, 1, 0, 0, 0, 1, 0, 0, 0, 1, 0, 0, 1, 1, 0, 1, 0, 0, 1, 0, 0, 0, 1, 0, 0, 0, 1, 1, 1, 0, 0, 1, 0, 1, 0, 1, 1, 0, 0, 0, 1, 0, 0, 0, 1, 1, 1, 0, 1, 1, 0, 1, 0, 0, 1, 1, 1, 1, 1, 1, 1, 0, 1, 1, 1, 1, 1, 1, 1, 1, 1, 0, 1, 0, 1, 1, 1, 0, 0, 0, 1, 1, 0, 0, 1, 0, 0, 1, 1, 1, 1, 0, 0, 1, 0, 0, 0, 0, 0, 1, 0, 1, 1, 0, 1, 1, 1, 1, 1, 1, 0, 1, 1, 0, 1, 1, 1, 0, 0, 0, 0, 1, 1, 0, 1, 0, 1, 0, 0, 0, 1, 1, 1, 1, 1, 1, 1, 1, 1, 1, 1, 0, 0, 1, 1, 1, 1, 1, 0, 0, 1, 1, 0, 1, 1, 1, 0, 1, 0, 0, 0, 0, 0, 1, 1, 1, 0, 0, 0, 1, 0, 1, 1, 0, 0, 0, 1, 1, 1, 0, 0, 0, 0, 1, 1, 1, 0, 0, 1, 1, 1, 0, 1, 1, 0, 0, 0, 1, 1, 0, 0, 0, 1, 1, 0, 1, 0, 1, 1, 1, 0, 0, 1, 0, 0, 0, 0, 0, 1, 0, 1, 1, 0, 0, 0, 0, 1, 1, 0, 1, 0, 0, 1, 1, 1, 0, 1, 1, 0, 1, 1, 0, 1, 1, 0, 1, 0, 0, 1, 0, 0, 0, 1, 0, 0, 0, 0, 1, 1, 1, 1, 1, 1, 0, 0, 0, 0, 0, 0, 1, 0, 1, 1, 0, 0, 1, 1, 0, 0, 0, 1, 0, 1, 1, 0, 1, 0, 0, 0, 1, 1, 1, 0, 0, 0, 0, 1, 0, 1, 1, 0, 0, 0, 0, 0, 1, 0, 0, 1, 1, 0, 1, 0, 0, 0, 0, 1, 0, 1, 0, 0, 0, 0, 0, 0, 1, 1, 1, 1, 0, 0, 0, 1, 0, 0, 0, 1, 0, 1, 0, 1, 0, 0, 1, 0, 1, 0, 0, 1, 0, 0, 1, 1, 0, 1, 1, 1, 1, 1, 1, 1, 1, 1, 0, 0, 0, 0, 0, 0, 0, 1, 1, 0, 0, 1, 0, 1, 1, 1, 1, 1, 0, 1, 0, 0, 0, 0, 0, 0, 1, 1, 0, 1, 1, 1, 0, 1, 1, 1, 1, 0, 1, 0, 1, 0, 1, 0, 1, 0, 1, 0, 0, 1, 1, 0, 0, 1, 1, 0, 1, 1, 1, 1, 1, 0, 0, 0, 1, 1, 0, 1, 0, 1, 1, 1, 0, 1, 0, 1, 1, 0, 0, 0, 1, 0, 1, 0, 1, 1, 0, 0, 0, 1, 0, 1, 0, 1, 0, 1, 0, 1, 1, 0, 1, 0, 0, 1, 0, 1, 1, 0, 0, 1, 0, 1, 0, 1, 0, 0, 0, 1, 0, 0, 0, 1, 1, 1, 0, 1, 1, 1, 0, 0, 1, 1, 0, 1, 1, 1, 1, 1, 1, 0, 1, 1, 0, 0, 1, 0, 0, 1, 1, 1, 1, 1, 1, 1, 0, 0, 0, 0, 0, 0, 1, 1, 0, 0, 1, 1, 0, 0, 0, 1, 1, 0, 1, 1, 0, 1, 1, 1, 0, 1, 0, 0, 1, 1, 1, 0, 1, 0, 1, 1, 0, 0, 0, 0, 1, 0, 1, 1, 1, 1, 0, 0, 1, 0, 0, 0, 0, 0, 0, 0, 0, 1, 1, 1, 1, 1, 1, 1, 0, 1, 0, 0, 0, 0, 1, 1, 0, 0, 0, 0, 1, 0, 0, 1, 0, 0, 1]\n"
          ]
        }
      ]
    },
    {
      "cell_type": "code",
      "source": [
        "input_data = (-3.970048523,-2.512336381,5.346329613,\t-1.012008712,\t1.844900361,\t0.329839797,\t-0.491590483)\n",
        "# change the input_data to a numpy array\n",
        "input_data_as_numpy_array = np.asarray(input_data)\n",
        "\n",
        "# reshape the numpy array as we are predicting for one data point\n",
        "input_data_reshaped = input_data_as_numpy_array.reshape(1,-1)\n",
        "\n",
        "# standardizing the input data\n",
        "input_data_std = scaler.transform(input_data_reshaped)\n",
        "\n",
        "prediction = model.predict(input_data_std)\n",
        "print(prediction)\n",
        "\n",
        "prediction_label = [np.argmax(prediction)]\n",
        "print(prediction_label)\n",
        "\n",
        "if(prediction_label[0] == 0):\n",
        "  print('The apple is bad')\n",
        "\n",
        "else:\n",
        "  print('The apple is good')"
      ],
      "metadata": {
        "colab": {
          "base_uri": "https://localhost:8080/"
        },
        "id": "ihR8NFwtk2HU",
        "outputId": "0e3647ba-a790-4686-cc36-9c16ade82a87"
      },
      "execution_count": 138,
      "outputs": [
        {
          "output_type": "stream",
          "name": "stdout",
          "text": [
            "1/1 [==============================] - 0s 32ms/step\n",
            "[[0.05009728 0.9620597 ]]\n",
            "[1]\n",
            "The apple is good\n"
          ]
        },
        {
          "output_type": "stream",
          "name": "stderr",
          "text": [
            "/usr/local/lib/python3.10/dist-packages/sklearn/base.py:439: UserWarning: X does not have valid feature names, but StandardScaler was fitted with feature names\n",
            "  warnings.warn(\n"
          ]
        }
      ]
    },
    {
      "cell_type": "code",
      "source": [
        "input_data = (-1.53860666,\t-2.747844387,\t1.844950057,\t0.491249069,\t-0.425815521,\t1.25976818,\t-1.680924092)\n",
        "input_data_as_numpy_array = np.asarray(input_data)\n",
        "\n",
        "# reshape the numpy array as we are predicting for one data point\n",
        "input_data_reshaped = input_data_as_numpy_array.reshape(1,-1)\n",
        "\n",
        "# standardizing the input data\n",
        "input_data_std = scaler.transform(input_data_reshaped)\n",
        "\n",
        "prediction = model.predict(input_data_std)\n",
        "print(prediction)\n",
        "\n",
        "prediction_label = [np.argmax(prediction)]\n",
        "print(prediction_label)\n",
        "\n",
        "if(prediction_label[0] == 0):\n",
        "  print('The apple is bad')\n",
        "\n",
        "else:\n",
        "  print('The apple is good')"
      ],
      "metadata": {
        "colab": {
          "base_uri": "https://localhost:8080/"
        },
        "id": "f6EqXlxok4QN",
        "outputId": "0adfa467-b483-44be-b0a3-1ff0b9bb8a75"
      },
      "execution_count": 139,
      "outputs": [
        {
          "output_type": "stream",
          "name": "stdout",
          "text": [
            "1/1 [==============================] - 0s 36ms/step\n",
            "[[0.9477187  0.03332545]]\n",
            "[0]\n",
            "The apple is bad\n"
          ]
        },
        {
          "output_type": "stream",
          "name": "stderr",
          "text": [
            "/usr/local/lib/python3.10/dist-packages/sklearn/base.py:439: UserWarning: X does not have valid feature names, but StandardScaler was fitted with feature names\n",
            "  warnings.warn(\n"
          ]
        }
      ]
    },
    {
      "cell_type": "code",
      "source": [],
      "metadata": {
        "id": "aBseidcplnLw"
      },
      "execution_count": null,
      "outputs": []
    }
  ]
}